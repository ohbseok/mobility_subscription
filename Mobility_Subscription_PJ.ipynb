{
  "nbformat": 4,
  "nbformat_minor": 0,
  "metadata": {
    "colab": {
      "provenance": [],
      "machine_shape": "hm",
      "collapsed_sections": [],
      "mount_file_id": "169uV3-eJJtNDAQYT9a1ZGqA_drWm3Vzw",
      "authorship_tag": "ABX9TyOP1zIk/MDy7GPkWWwBbrDA",
      "include_colab_link": true
    },
    "kernelspec": {
      "name": "python3",
      "display_name": "Python 3"
    },
    "language_info": {
      "name": "python"
    }
  },
  "cells": [
    {
      "cell_type": "markdown",
      "metadata": {
        "id": "view-in-github",
        "colab_type": "text"
      },
      "source": [
        "<a href=\"https://colab.research.google.com/github/ohbseok/mobility_subscription/blob/main/Mobility_Subscription_PJ.ipynb\" target=\"_parent\"><img src=\"https://colab.research.google.com/assets/colab-badge.svg\" alt=\"Open In Colab\"/></a>"
      ]
    },
    {
      "cell_type": "markdown",
      "source": [
        "# 데이터 불러오기\n"
      ],
      "metadata": {
        "id": "I1fwqqa6-xuZ"
      }
    },
    {
      "cell_type": "code",
      "execution_count": null,
      "metadata": {
        "id": "txJLsO--bQlC"
      },
      "outputs": [],
      "source": [
        "import pandas as pd\n",
        "import seaborn as sns\n",
        "import matplotlib.pyplot as plt\n",
        "import numpy as np\n",
        "import scipy.stats\n",
        "\n",
        "pd.set_option('display.max_columns', None)"
      ]
    },
    {
      "cell_type": "code",
      "source": [
        "### station 마다 수요공급 예측할 때 \n",
        "# df = pd.read_csv('/content/drive/MyDrive/코드스테이츠/N2XX/section2 project/status3.csv')\n",
        "df_station = pd.read_csv('/content/drive/MyDrive/코드스테이츠/N2XX/section2 project/station.csv')\n",
        "df_trip = pd.read_csv('/content/drive/MyDrive/코드스테이츠/N2XX/section2 project/trip.csv.zip')"
      ],
      "metadata": {
        "id": "KRwWdZc9bVRp"
      },
      "execution_count": null,
      "outputs": []
    },
    {
      "cell_type": "code",
      "source": [
        "sns.scatterplot(data=df_station, x='lat', y='long', hue='city')"
      ],
      "metadata": {
        "colab": {
          "base_uri": "https://localhost:8080/"
        },
        "id": "RSlOCKw3h4br",
        "outputId": "7cda5d67-7833-4884-98c6-188133c9d811"
      },
      "execution_count": null,
      "outputs": [
        {
          "output_type": "execute_result",
          "data": {
            "text/plain": [
              "<matplotlib.axes._subplots.AxesSubplot at 0x7f54596b1290>"
            ]
          },
          "metadata": {},
          "execution_count": 4
        },
        {
          "output_type": "display_data",
          "data": {
            "text/plain": [
              "<Figure size 432x288 with 1 Axes>"
            ],
            "image/png": "[encoded data removed]"
          },
          "metadata": {
            "needs_background": "light"
          }
        }
      ]
    },
    {
      "cell_type": "code",
      "source": [
        "# 쓸모 없는 feature 제거\n",
        "df_trip.drop(columns=['id', 'start_station_name', 'end_station_name', 'zip_code'], inplace=True) # bike_id 도 추가?\n",
        "df_station.drop(columns=['name'], inplace=True)"
      ],
      "metadata": {
        "id": "YrcqdGjq0k82"
      },
      "execution_count": null,
      "outputs": []
    },
    {
      "cell_type": "code",
      "source": [
        "# 결측치 확인\n",
        "print(df_trip.isnull().sum(), '\\n') \n",
        "print(df_trip.isnull().sum())"
      ],
      "metadata": {
        "colab": {
          "base_uri": "https://localhost:8080/"
        },
        "id": "wg1OlLXCoATb",
        "outputId": "f5081a80-cfde-44aa-a948-eb39b389c9ff"
      },
      "execution_count": null,
      "outputs": [
        {
          "output_type": "stream",
          "name": "stdout",
          "text": [
            "duration             0\n",
            "start_date           0\n",
            "start_station_id     0\n",
            "end_date             0\n",
            "end_station_id       0\n",
            "bike_id              0\n",
            "subscription_type    0\n",
            "dtype: int64 \n",
            "\n",
            "duration             0\n",
            "start_date           0\n",
            "start_station_id     0\n",
            "end_date             0\n",
            "end_station_id       0\n",
            "bike_id              0\n",
            "subscription_type    0\n",
            "dtype: int64\n"
          ]
        }
      ]
    },
    {
      "cell_type": "code",
      "source": [
        "df_merge = pd.merge(df_trip, df_station[['id', 'lat', 'long', 'city']], how='left', left_on='start_station_id', right_on='id')\n",
        "# df_merge.drop(columns=['id', 'installation_date'], inplace=True) # \n"
      ],
      "metadata": {
        "id": "6gfR3s0aHCr_"
      },
      "execution_count": null,
      "outputs": []
    },
    {
      "cell_type": "code",
      "source": [
        "# column 삭제 및 네임 변경\n",
        "df_merge.drop(columns='id', inplace=True) \n",
        "df_merge.rename(columns = {'lat' : 'start_lat', 'long':'start_long', 'city':'start_city'}, inplace = True)\n"
      ],
      "metadata": {
        "id": "mpLJDKGLJvbu"
      },
      "execution_count": null,
      "outputs": []
    },
    {
      "cell_type": "code",
      "source": [
        "# end point 병합\n",
        "df_merge = pd.merge(df_merge, df_station[['id', 'lat', 'long', 'city']], how='left', left_on='end_station_id', right_on='id') # df_merge 에 해주는거 조심\n"
      ],
      "metadata": {
        "id": "CJy-IWErM7wO"
      },
      "execution_count": null,
      "outputs": []
    },
    {
      "cell_type": "code",
      "source": [
        "# column 삭제 및 네임 변경\n",
        "df_merge.drop(columns='id', inplace=True) \n",
        "df_merge.rename(columns = {'lat' : 'end_lat', 'long':'end_long', 'city':'end_city'}, inplace = True)\n"
      ],
      "metadata": {
        "id": "adDcbtErM7wP"
      },
      "execution_count": null,
      "outputs": []
    },
    {
      "cell_type": "code",
      "source": [
        "df = df_merge"
      ],
      "metadata": {
        "id": "oGmcsLATe8Hc"
      },
      "execution_count": null,
      "outputs": []
    },
    {
      "cell_type": "code",
      "source": [
        "# city 이동 column 추가 -> 무조건 ['col'] 으로!  df.col 은 참조임\n",
        "df['move_city'] = df.start_city + '_' + df.end_city # - 쓰면 num 계산으로 인식"
      ],
      "metadata": {
        "id": "sl_b86nkRILa"
      },
      "execution_count": null,
      "outputs": []
    },
    {
      "cell_type": "code",
      "source": [
        "df.move_city.value_counts() # 데이터별 개수 확인 -> 맞다 이거였네"
      ],
      "metadata": {
        "colab": {
          "base_uri": "https://localhost:8080/"
        },
        "id": "rSUbkY26SzWd",
        "outputId": "1507ef1a-0534-43cf-f59e-2b2df98c64dd"
      },
      "execution_count": null,
      "outputs": [
        {
          "output_type": "execute_result",
          "data": {
            "text/plain": [
              "San Francisco_San Francisco    603693\n",
              "San Jose_San Jose               37856\n",
              "Mountain View_Mountain View     17746\n",
              "Palo Alto_Palo Alto              6293\n",
              "Redwood City_Redwood City        3329\n",
              "Palo Alto_Mountain View           420\n",
              "Mountain View_Palo Alto           393\n",
              "Redwood City_Palo Alto             97\n",
              "Palo Alto_Redwood City             51\n",
              "Mountain View_San Jose             15\n",
              "San Jose_Mountain View             14\n",
              "Palo Alto_San Francisco             9\n",
              "Mountain View_San Francisco         9\n",
              "San Francisco_Redwood City          6\n",
              "San Francisco_Palo Alto             4\n",
              "San Jose_San Francisco              4\n",
              "Mountain View_Redwood City          4\n",
              "San Jose_Palo Alto                  4\n",
              "San Francisco_San Jose              3\n",
              "Redwood City_Mountain View          3\n",
              "Redwood City_San Francisco          3\n",
              "San Francisco_Mountain View         2\n",
              "Redwood City_San Jose               1\n",
              "Name: move_city, dtype: int64"
            ]
          },
          "metadata": {},
          "execution_count": 13
        }
      ]
    },
    {
      "cell_type": "markdown",
      "source": [
        "# haversine"
      ],
      "metadata": {
        "id": "0Fpvs-uH-2iQ"
      }
    },
    {
      "cell_type": "markdown",
      "source": [
        "- haversine 패키지 -> 기본 단위 KM\n"
      ],
      "metadata": {
        "id": "NzPuCI54NvkP"
      }
    },
    {
      "cell_type": "code",
      "execution_count": null,
      "metadata": {
        "colab": {
          "base_uri": "https://localhost:8080/"
        },
        "id": "M7iFP-mAVW2H",
        "outputId": "1f3fb1b6-663f-4b18-d9b9-d9c097bdebfa"
      },
      "outputs": [
        {
          "output_type": "stream",
          "name": "stdout",
          "text": [
            "Looking in indexes: https://pypi.org/simple, https://us-python.pkg.dev/colab-wheels/public/simple/\n",
            "Collecting haversine\n",
            "  Downloading haversine-2.7.0-py2.py3-none-any.whl (6.9 kB)\n",
            "Installing collected packages: haversine\n",
            "Successfully installed haversine-2.7.0\n"
          ]
        }
      ],
      "source": [
        "!pip install haversine\n",
        "from haversine import haversine\n",
        "\n",
        "df['distance_diagonal'] = df.apply(lambda row: haversine((row['start_lat'], row['start_long']),\n",
        "                                                        (row['end_lat'], row['end_long'])), axis=1)\n",
        "\n",
        "df['distance_lat'] = df.apply(lambda row: haversine((row['start_lat'], row['start_long']),\n",
        "                                                        (row['end_lat'], row['start_long'])), axis=1)\n",
        "\n",
        "df['distance_long'] = df.apply(lambda row: haversine((row['start_lat'], row['start_long']),\n",
        "                                                        (row['start_lat'], row['end_long'])), axis=1)\n"
      ]
    },
    {
      "cell_type": "markdown",
      "source": [],
      "metadata": {
        "id": "9EZGH76HlTI_"
      }
    },
    {
      "cell_type": "code",
      "execution_count": null,
      "metadata": {
        "id": "RxqqtaFTZRqT"
      },
      "outputs": [],
      "source": [
        "# 블럭 이동거리 a+b 생성\n",
        "df['distance_lat+long'] = df['distance_lat'] + df['distance_long']\n",
        "\n",
        "coords = df[['start_lat',\t'start_long',\t'end_lat','end_long']] # lat, long 좌표 따로\n",
        "df.drop(columns=['distance_lat', 'distance_long','start_lat',\t'start_long',\t'end_lat','end_long'], inplace=True) # "
      ]
    },
    {
      "cell_type": "code",
      "source": [
        "# right skewed 데이터-> log transformation \n",
        "def log_transform(df, col_list):\n",
        "  for col in col_list:\n",
        "    df[col] = np.log1p(df[col])\n"
      ],
      "metadata": {
        "id": "pQuNyuwRnV8S"
      },
      "execution_count": null,
      "outputs": []
    },
    {
      "cell_type": "code",
      "source": [
        "col_list = ['duration', 'distance_diagonal', 'distance_lat+long']\n",
        "log_transform(df, col_list)"
      ],
      "metadata": {
        "id": "NpqBg627I-vX"
      },
      "execution_count": null,
      "outputs": []
    },
    {
      "cell_type": "code",
      "source": [
        "# target -> 0, 1 로 변경\n",
        "df = df.replace({'subscription_type' : 'Subscriber'}, 1) # 되네\n",
        "df.replace({'subscription_type': {'Customer': 0}}, inplace=True) # 둘다 가능 -> 이걸로 하면 한번에 가능"
      ],
      "metadata": {
        "id": "qkMCvVMAZcz6"
      },
      "execution_count": null,
      "outputs": []
    },
    {
      "cell_type": "code",
      "source": [
        "# 이동시간 커널밀도추정 그래프\n",
        "plt.figure(figsize=(20, 8))\n",
        "\n",
        "plt.subplot(1,3, 1)\n",
        "sns.kdeplot(df['duration'])\n",
        "\n",
        "plt.subplot(1,3, 2)\n",
        "sns.kdeplot(df['distance_diagonal'])\n",
        "\n",
        "plt.subplot(1,3, 3)\n",
        "sns.kdeplot(df['distance_lat+long'])"
      ],
      "metadata": {
        "colab": {
          "base_uri": "https://localhost:8080/"
        },
        "id": "HOP1gkTpK_K7",
        "outputId": "2bb48201-64aa-4037-e6ef-c0d4a210d9c3"
      },
      "execution_count": null,
      "outputs": [
        {
          "output_type": "execute_result",
          "data": {
            "text/plain": [
              "<matplotlib.axes._subplots.AxesSubplot at 0x7f545a9bf5d0>"
            ]
          },
          "metadata": {},
          "execution_count": 19
        },
        {
          "output_type": "display_data",
          "data": {
            "text/plain": [
              "<Figure size 1440x576 with 3 Axes>"
            ],
            "image/png": "[encoded data removed]"
          },
          "metadata": {
            "needs_background": "light"
          }
        }
      ]
    },
    {
      "cell_type": "markdown",
      "source": [
        "# 다시 출발 정류소로 오는 데이터"
      ],
      "metadata": {
        "id": "b2zJFZCexkDX"
      }
    },
    {
      "cell_type": "code",
      "source": [
        "# 이동시간 이상치 확인\n",
        "# limit = df['duration'].quantile(0.995) # 99.5% -> 20636\n",
        "limit_1day = np.log1p(86400)\n",
        "limit_1min = np.log1p(60)\n",
        "\n",
        "# 이동시간 1일보다 크면 제외\n",
        "df = df[df.duration < limit_1day] \n",
        "\n",
        "# 이동시간 1분 이하 & 원래 정류소로 돌아오면 삭제\n",
        "df_remove = df[ (df.duration <= limit_1min) & (df.start_station_id == df.end_station_id) ] # duration log transform 해줬으니 60초도 변환해주기!!\n",
        "remove_list = list(df_remove.index) # [] 로 감싸면 다름\n",
        "df.drop(index=remove_list, inplace=True)"
      ],
      "metadata": {
        "id": "RL97VhiPWWFX"
      },
      "execution_count": null,
      "outputs": []
    },
    {
      "cell_type": "code",
      "source": [
        "# 다시 출발했던 정류소로 돌아오는지 아닌지 feature engineering\n",
        "df['is_comeback'] = df.apply(lambda x: 1 if x.start_station_id == x.end_station_id else 0, axis=1) # 기본 axis=0 -> each col 기능 적용, x 에 df 들어간다 생각  \n"
      ],
      "metadata": {
        "id": "OTvbh948Csoy"
      },
      "execution_count": null,
      "outputs": []
    },
    {
      "cell_type": "code",
      "source": [
        "df.is_comeback.value_counts()"
      ],
      "metadata": {
        "colab": {
          "base_uri": "https://localhost:8080/"
        },
        "id": "hK_sB5sSTDF-",
        "outputId": "e4dce05d-3a65-408a-9ea7-d337dc13513f"
      },
      "execution_count": null,
      "outputs": [
        {
          "output_type": "execute_result",
          "data": {
            "text/plain": [
              "0    645784\n",
              "1     23833\n",
              "Name: is_comeback, dtype: int64"
            ]
          },
          "metadata": {},
          "execution_count": 22
        }
      ]
    },
    {
      "cell_type": "code",
      "execution_count": null,
      "metadata": {
        "colab": {
          "base_uri": "https://localhost:8080/"
        },
        "id": "p0w0w0bnJma0",
        "outputId": "50996ca9-40aa-4fb4-9731-8f797dee30a1"
      },
      "outputs": [
        {
          "output_type": "stream",
          "name": "stdout",
          "text": [
            "전체 개수 : 23833\n",
            "비율 : 0.03559198765861679\n",
            "다시 출발 정류소로 돌아오는 경우 : 0.03559198765861679\n"
          ]
        }
      ],
      "source": [
        "# 다시 출발 정류소로 되돌아오는 경우\n",
        "df_back = df[df.is_comeback == 1]\n",
        "\n",
        "# 그때 비율\n",
        "print('전체 개수 :', len(df_back))\n",
        "print('비율 :' ,len(df_back) / len(df)) \n",
        "print('다시 출발 정류소로 돌아오는 경우 :', df.is_comeback.value_counts(1)[1] ) "
      ]
    },
    {
      "cell_type": "markdown",
      "source": [
        "- 다시 출발 정류소로 돌아오는 경우 vs 전체  \n",
        "이동시간 -> 전체가 평균 시간에서 밀도가 훨씬 높다"
      ],
      "metadata": {
        "id": "YUW9icBUkATI"
      }
    },
    {
      "cell_type": "code",
      "source": [
        "df_back.subscription_type.value_counts(1) # 와,,, 일반 고객 비율이 엄청 높다. \n",
        "# df_back.sort_values(by='duration', )"
      ],
      "metadata": {
        "colab": {
          "base_uri": "https://localhost:8080/"
        },
        "id": "sTM7-okuQP_b",
        "outputId": "f0257a21-db37-4f26-928f-a044fe0d1d07"
      },
      "execution_count": null,
      "outputs": [
        {
          "output_type": "execute_result",
          "data": {
            "text/plain": [
              "0    0.68573\n",
              "1    0.31427\n",
              "Name: subscription_type, dtype: float64"
            ]
          },
          "metadata": {},
          "execution_count": 24
        }
      ]
    },
    {
      "cell_type": "markdown",
      "source": [
        "# 출도착 도시 다른 데이터"
      ],
      "metadata": {
        "id": "Q6tLRLH8xfAe"
      }
    },
    {
      "cell_type": "markdown",
      "source": [
        "\n",
        "\n",
        "---\n",
        "아예 customer인 사람만 뽑아서 특징 시각화?\n",
        "\n",
        "\n"
      ],
      "metadata": {
        "id": "54E3N7ZiJlSx"
      }
    },
    {
      "cell_type": "code",
      "source": [
        "# 출도착 도시가 같은지 다른지 feature engineering\n",
        "df['is_same_city'] = df.apply(lambda x: 1 if x.start_city == x.end_city else 0, axis=1) # 기본 axis=0 -> each col 기능 적용, x 에 df 들어간다 생각  \n",
        "\n"
      ],
      "metadata": {
        "id": "_4K_nTZGnwqn"
      },
      "execution_count": null,
      "outputs": []
    },
    {
      "cell_type": "code",
      "source": [
        "print('출도착 도시 다른 경우 :', df.is_same_city.value_counts(1)[0] )"
      ],
      "metadata": {
        "colab": {
          "base_uri": "https://localhost:8080/"
        },
        "id": "SBrq12y4pBpT",
        "outputId": "9af2810a-e037-474b-a2e4-4bfeb65d6e56"
      },
      "execution_count": null,
      "outputs": [
        {
          "output_type": "stream",
          "name": "stdout",
          "text": [
            "출도착 도시 다른 경우 : 0.0015411795100781491\n"
          ]
        }
      ]
    },
    {
      "cell_type": "code",
      "source": [
        "df_diff = df[df.is_same_city == 0]"
      ],
      "metadata": {
        "id": "lWfE5zmf9D8S"
      },
      "execution_count": null,
      "outputs": []
    },
    {
      "cell_type": "code",
      "source": [
        "# 출도착 도시 다를 때 이동 도시\n",
        "print(df_diff.move_city.value_counts(), '\\n')\n",
        "print(df_diff.subscription_type.value_counts(2)) # 이때 일반 고객 비율 50프로"
      ],
      "metadata": {
        "colab": {
          "base_uri": "https://localhost:8080/"
        },
        "id": "jJEVzICj9TSo",
        "outputId": "62299f39-14ef-4c2e-c452-c7caba66fd9b"
      },
      "execution_count": null,
      "outputs": [
        {
          "output_type": "stream",
          "name": "stdout",
          "text": [
            "Palo Alto_Mountain View        418\n",
            "Mountain View_Palo Alto        391\n",
            "Redwood City_Palo Alto          97\n",
            "Palo Alto_Redwood City          51\n",
            "Mountain View_San Jose          14\n",
            "San Jose_Mountain View          13\n",
            "Palo Alto_San Francisco          9\n",
            "Mountain View_San Francisco      7\n",
            "San Francisco_Redwood City       6\n",
            "San Francisco_Palo Alto          4\n",
            "Mountain View_Redwood City       4\n",
            "San Jose_San Francisco           4\n",
            "San Jose_Palo Alto               3\n",
            "Redwood City_San Francisco       3\n",
            "Redwood City_Mountain View       3\n",
            "San Francisco_San Jose           3\n",
            "San Francisco_Mountain View      2\n",
            "Name: move_city, dtype: int64 \n",
            "\n",
            "0    0.506783\n",
            "1    0.493217\n",
            "Name: subscription_type, dtype: float64\n"
          ]
        }
      ]
    },
    {
      "cell_type": "code",
      "source": [
        "df_diff['duration'].describe()"
      ],
      "metadata": {
        "colab": {
          "base_uri": "https://localhost:8080/"
        },
        "id": "SXgkqrGkqlYx",
        "outputId": "357aa5cf-3608-427b-9951-cb32519777af"
      },
      "execution_count": null,
      "outputs": [
        {
          "output_type": "execute_result",
          "data": {
            "text/plain": [
              "count    1032.000000\n",
              "mean        7.734885\n",
              "std         0.958425\n",
              "min         5.468060\n",
              "25%         7.210079\n",
              "50%         7.384610\n",
              "75%         7.869493\n",
              "max        11.346091\n",
              "Name: duration, dtype: float64"
            ]
          },
          "metadata": {},
          "execution_count": 29
        }
      ]
    },
    {
      "cell_type": "code",
      "source": [
        "# 이동시간 커널밀도추정 그래프\n",
        "plt.figure(figsize=(18, 6))\n",
        "\n",
        "plt.subplot(1, 3, 1)\n",
        "sns.kdeplot(df_back['duration'])\n",
        "\n",
        "plt.subplot(1, 3, 2)\n",
        "sns.kdeplot(df['duration'])\n",
        "\n",
        "plt.subplot(1, 3, 3)\n",
        "sns.kdeplot(df_diff['duration'])\n",
        "\n",
        "plt.legend()\n"
      ],
      "metadata": {
        "colab": {
          "base_uri": "https://localhost:8080/",
          "height": 395
        },
        "id": "M0xhV1eFWAx2",
        "outputId": "aa2756e4-a7f8-4254-f2a3-3bc6d81e5c87"
      },
      "execution_count": null,
      "outputs": [
        {
          "output_type": "stream",
          "name": "stderr",
          "text": [
            "WARNING:matplotlib.legend:No handles with labels found to put in legend.\n"
          ]
        },
        {
          "output_type": "execute_result",
          "data": {
            "text/plain": [
              "<matplotlib.legend.Legend at 0x7f544b25bf10>"
            ]
          },
          "metadata": {},
          "execution_count": 30
        },
        {
          "output_type": "display_data",
          "data": {
            "text/plain": [
              "<Figure size 1296x432 with 3 Axes>"
            ],
            "image/png": "[encoded data removed]"
          },
          "metadata": {
            "needs_background": "light"
          }
        }
      ]
    },
    {
      "cell_type": "markdown",
      "source": [
        "- 전체(2번째 plt)보다 다른 도시를 이동할 때 평균값 밀도가 더 높음! "
      ],
      "metadata": {
        "id": "6xqtLdCQmUkW"
      }
    },
    {
      "cell_type": "code",
      "source": [
        "plt.figure(figsize=(18, 6))\n",
        "\n",
        "sns.barplot(data= df, x= \"move_city\", y='duration')"
      ],
      "metadata": {
        "id": "TONHiARhYJCJ",
        "colab": {
          "base_uri": "https://localhost:8080/",
          "height": 362
        },
        "outputId": "cb9997cb-e351-4168-c728-a28f9090bbc4"
      },
      "execution_count": null,
      "outputs": [
        {
          "output_type": "execute_result",
          "data": {
            "text/plain": [
              "<matplotlib.axes._subplots.AxesSubplot at 0x7f544c509a10>"
            ]
          },
          "metadata": {},
          "execution_count": 31
        },
        {
          "output_type": "display_data",
          "data": {
            "text/plain": [
              "<Figure size 1296x432 with 1 Axes>"
            ],
            "image/png": "[encoded data removed]"
          },
          "metadata": {
            "needs_background": "light"
          }
        }
      ]
    },
    {
      "cell_type": "markdown",
      "source": [
        "- 다른 도시를 오갔다면, 그때 각 경로마다 이동시간은?"
      ],
      "metadata": {
        "id": "3QUTSv_CnNP8"
      }
    },
    {
      "cell_type": "code",
      "source": [
        "df_diff.move_city.unique()"
      ],
      "metadata": {
        "colab": {
          "base_uri": "https://localhost:8080/"
        },
        "id": "vHhkhiGUm4xj",
        "outputId": "e051ccbe-b1e2-49cc-91ce-784c329817dc"
      },
      "execution_count": null,
      "outputs": [
        {
          "output_type": "execute_result",
          "data": {
            "text/plain": [
              "array(['Palo Alto_Mountain View', 'Mountain View_Palo Alto',\n",
              "       'San Francisco_Redwood City', 'Redwood City_Palo Alto',\n",
              "       'San Francisco_San Jose', 'San Francisco_Palo Alto',\n",
              "       'Palo Alto_Redwood City', 'Redwood City_Mountain View',\n",
              "       'Redwood City_San Francisco', 'Mountain View_San Jose',\n",
              "       'San Jose_Mountain View', 'San Jose_San Francisco',\n",
              "       'Palo Alto_San Francisco', 'Mountain View_San Francisco',\n",
              "       'Mountain View_Redwood City', 'San Jose_Palo Alto',\n",
              "       'San Francisco_Mountain View'], dtype=object)"
            ]
          },
          "metadata": {},
          "execution_count": 32
        }
      ]
    },
    {
      "cell_type": "markdown",
      "source": [
        "# customer 데이터"
      ],
      "metadata": {
        "id": "mzafpk604qFW"
      }
    },
    {
      "cell_type": "code",
      "source": [
        "df_customer = df[df.subscription_type == 0]"
      ],
      "metadata": {
        "id": "syG01ZXCqz-5"
      },
      "execution_count": null,
      "outputs": []
    },
    {
      "cell_type": "code",
      "source": [
        "print(df_customer.duration.describe(), '\\n') # 최저는 61초\n",
        "print(df_customer.distance_diagonal.describe(), '\\n')"
      ],
      "metadata": {
        "colab": {
          "base_uri": "https://localhost:8080/"
        },
        "id": "-MAlbzOZq8Lf",
        "outputId": "afaf09af-4b4f-4daa-d3bd-731df8003224"
      },
      "execution_count": null,
      "outputs": [
        {
          "output_type": "stream",
          "name": "stdout",
          "text": [
            "count    102961.000000\n",
            "mean          7.245704\n",
            "std           1.130637\n",
            "min           4.127134\n",
            "25%           6.489205\n",
            "50%           7.016610\n",
            "75%           7.742402\n",
            "max          11.366535\n",
            "Name: duration, dtype: float64 \n",
            "\n",
            "count    102961.000000\n",
            "mean          0.726987\n",
            "std           0.419096\n",
            "min           0.000000\n",
            "25%           0.507737\n",
            "50%           0.796614\n",
            "75%           1.010078\n",
            "max           4.234867\n",
            "Name: distance_diagonal, dtype: float64 \n",
            "\n"
          ]
        }
      ]
    },
    {
      "cell_type": "code",
      "source": [
        "print(len(df_customer[df_customer.distance_diagonal == 0]))\n",
        "print(len(df_customer[df_customer.distance_diagonal == 0]) / len(df_customer)) # customer 중에 이동거리 0 인 비율\n"
      ],
      "metadata": {
        "colab": {
          "base_uri": "https://localhost:8080/"
        },
        "id": "-g83be3QoCMC",
        "outputId": "d50493fe-d504-42d9-b4d2-f1909dc02c6c"
      },
      "execution_count": null,
      "outputs": [
        {
          "output_type": "stream",
          "name": "stdout",
          "text": [
            "16343\n",
            "0.15873000456483524\n"
          ]
        }
      ]
    },
    {
      "cell_type": "markdown",
      "source": [
        "이동거리 0인 것 중에 duration 표시해서 높은 사람들은??? "
      ],
      "metadata": {
        "id": "bdeMhCemvekQ"
      }
    },
    {
      "cell_type": "code",
      "source": [
        "sns.kdeplot(df_customer['duration']) \n"
      ],
      "metadata": {
        "colab": {
          "base_uri": "https://localhost:8080/",
          "height": 297
        },
        "id": "EcvLg0g9nfQO",
        "outputId": "5adf5f59-1b52-4df5-ebbb-0fe936154cc3"
      },
      "execution_count": null,
      "outputs": [
        {
          "output_type": "execute_result",
          "data": {
            "text/plain": [
              "<matplotlib.axes._subplots.AxesSubplot at 0x7f548bb56490>"
            ]
          },
          "metadata": {},
          "execution_count": 36
        },
        {
          "output_type": "display_data",
          "data": {
            "text/plain": [
              "<Figure size 432x288 with 1 Axes>"
            ],
            "image/png": "[encoded data removed]"
          },
          "metadata": {
            "needs_background": "light"
          }
        }
      ]
    },
    {
      "cell_type": "code",
      "source": [
        "sns.kdeplot(df_customer[df_customer.distance_diagonal == 0]['duration']) # customer 중 출도착 정류소 같은 사람의 dura\n"
      ],
      "metadata": {
        "colab": {
          "base_uri": "https://localhost:8080/",
          "height": 296
        },
        "id": "KRAzpj58v2X7",
        "outputId": "fe1f323a-f3d2-45c6-c4ad-f571860e61f2"
      },
      "execution_count": null,
      "outputs": [
        {
          "output_type": "execute_result",
          "data": {
            "text/plain": [
              "<matplotlib.axes._subplots.AxesSubplot at 0x7f5449f73810>"
            ]
          },
          "metadata": {},
          "execution_count": 37
        },
        {
          "output_type": "display_data",
          "data": {
            "text/plain": [
              "<Figure size 432x288 with 1 Axes>"
            ],
            "image/png": "[encoded data removed]"
          },
          "metadata": {
            "needs_background": "light"
          }
        }
      ]
    },
    {
      "cell_type": "code",
      "source": [
        "# 이동거리 커널밀도추정 그래프\n",
        "sns.kdeplot(df_customer['distance_diagonal'])\n",
        "sns.kdeplot(df_customer['distance_lat+long'])"
      ],
      "metadata": {
        "colab": {
          "base_uri": "https://localhost:8080/",
          "height": 300
        },
        "id": "EabkzTdFEqaw",
        "outputId": "3b14fe5b-a191-4bec-f8da-103fd3bd9031"
      },
      "execution_count": null,
      "outputs": [
        {
          "output_type": "execute_result",
          "data": {
            "text/plain": [
              "<matplotlib.axes._subplots.AxesSubplot at 0x7f544d3cc250>"
            ]
          },
          "metadata": {},
          "execution_count": 38
        },
        {
          "output_type": "display_data",
          "data": {
            "text/plain": [
              "<Figure size 432x288 with 1 Axes>"
            ],
            "image/png": "[encoded data removed]"
          },
          "metadata": {
            "needs_background": "light"
          }
        }
      ]
    },
    {
      "cell_type": "markdown",
      "source": [
        "- 직각거리가 대각선보다 많이 나오는건 당연  \n",
        "이동시간은 모두 60초 초과 -> 거리가 0이 나온다는건,, 출도착 정류소가 같다는 말  \n",
        "<br>\n",
        "모두 이동했다 가정하면 customer 은 1회 이용 고객일 가능성이 다분... (다시 출발지로 돌아가는)  \n"
      ],
      "metadata": {
        "id": "Fcuh1SS_pbzJ"
      }
    },
    {
      "cell_type": "code",
      "source": [
        "df_customer_num = df_customer[['duration', 'start_station_id', 'end_station_id', 'bike_id', 'distance_diagonal', 'distance_lat+long', 'subscription_type']]"
      ],
      "metadata": {
        "id": "xouBiJgWHs-W"
      },
      "execution_count": null,
      "outputs": []
    },
    {
      "cell_type": "code",
      "source": [
        "heatmap_data = df_customer_num\n",
        "\n",
        "colormap = plt.cm.PuBu\n",
        "plt.figure(figsize=(10, 8))\n",
        "plt.title(\"Person Correlation of Features\", y = 1.05, size = 15)\n",
        "sns.heatmap(heatmap_data.astype(float).corr(), linewidths = 0.1, vmax = 1.0,\n",
        "           square = True, cmap = colormap, linecolor = \"white\", annot = True, annot_kws = {\"size\" : 16}) # annot -> 피어슨 계수 표시\n"
      ],
      "metadata": {
        "colab": {
          "base_uri": "https://localhost:8080/",
          "height": 620
        },
        "id": "g2IfBdU-Ci71",
        "outputId": "7b7dfe70-efca-4159-a9a3-8b2fc4cc6da8"
      },
      "execution_count": null,
      "outputs": [
        {
          "output_type": "execute_result",
          "data": {
            "text/plain": [
              "<matplotlib.axes._subplots.AxesSubplot at 0x7f544cf180d0>"
            ]
          },
          "metadata": {},
          "execution_count": 40
        },
        {
          "output_type": "display_data",
          "data": {
            "text/plain": [
              "<Figure size 720x576 with 2 Axes>"
            ],
            "image/png": "[encoded data removed]"
          },
          "metadata": {
            "needs_background": "light"
          }
        }
      ]
    },
    {
      "cell_type": "markdown",
      "source": [
        "일반 고객만 추출한 데이터라서 subscription_type 상관관계 안 나타남"
      ],
      "metadata": {
        "id": "vauhcgeQMKsB"
      }
    },
    {
      "cell_type": "code",
      "source": [
        "df_num = df[['duration', 'start_station_id', 'end_station_id', 'bike_id', 'distance_diagonal', 'distance_lat+long', 'subscription_type']]"
      ],
      "metadata": {
        "id": "cEo7_dtnMTJQ"
      },
      "execution_count": null,
      "outputs": []
    },
    {
      "cell_type": "code",
      "source": [
        "heatmap_data = df_num\n",
        "\n",
        "colormap = plt.cm.PuBu\n",
        "plt.figure(figsize=(10, 8))\n",
        "plt.title(\"Person Correlation of Features\", y = 1.05, size = 15)\n",
        "sns.heatmap(heatmap_data.astype(float).corr(), linewidths = 0.1, vmax = 1.0,\n",
        "           square = True, cmap = colormap, linecolor = \"white\", annot = True, annot_kws = {\"size\" : 16}) # annot -> 피어슨 계수 표시\n"
      ],
      "metadata": {
        "colab": {
          "base_uri": "https://localhost:8080/",
          "height": 620
        },
        "outputId": "e66cf53d-d3cd-4b83-aabb-9bbc2485e9c5",
        "id": "IWppHHYWMTJQ"
      },
      "execution_count": null,
      "outputs": [
        {
          "output_type": "execute_result",
          "data": {
            "text/plain": [
              "<matplotlib.axes._subplots.AxesSubplot at 0x7f544cf18810>"
            ]
          },
          "metadata": {},
          "execution_count": 42
        },
        {
          "output_type": "display_data",
          "data": {
            "text/plain": [
              "<Figure size 720x576 with 2 Axes>"
            ],
            "image/png": "[encoded data removed]"
          },
          "metadata": {
            "needs_background": "light"
          }
        }
      ]
    },
    {
      "cell_type": "code",
      "source": [
        "from scipy.stats import pearsonr\n",
        "pearsonr(df.duration, df.subscription_type)"
      ],
      "metadata": {
        "colab": {
          "base_uri": "https://localhost:8080/"
        },
        "id": "01-9xuslU73v",
        "outputId": "457f6df8-15aa-436a-a6d6-1f7c53f734a6"
      },
      "execution_count": null,
      "outputs": [
        {
          "output_type": "execute_result",
          "data": {
            "text/plain": [
              "(-0.5092691082474579, 0.0)"
            ]
          },
          "metadata": {},
          "execution_count": 43
        }
      ]
    },
    {
      "cell_type": "code",
      "source": [
        "df['subscription_type'].value_counts(2)\n"
      ],
      "metadata": {
        "colab": {
          "base_uri": "https://localhost:8080/"
        },
        "id": "IKr_ZhefZXXd",
        "outputId": "098dc74b-e07f-487e-981c-d8346d8113b6"
      },
      "execution_count": null,
      "outputs": [
        {
          "output_type": "execute_result",
          "data": {
            "text/plain": [
              "1    0.846239\n",
              "0    0.153761\n",
              "Name: subscription_type, dtype: float64"
            ]
          },
          "metadata": {},
          "execution_count": 44
        }
      ]
    },
    {
      "cell_type": "markdown",
      "source": [
        "# binary 문자열 column 상관 분석"
      ],
      "metadata": {
        "id": "CammBLLoZ-Vl"
      }
    },
    {
      "cell_type": "code",
      "source": [
        "df_binary = df[['subscription_type', 'is_comeback', 'is_same_city']]"
      ],
      "metadata": {
        "id": "UINIQhpKU5pm"
      },
      "execution_count": null,
      "outputs": []
    },
    {
      "cell_type": "code",
      "source": [
        "df_binary"
      ],
      "metadata": {
        "colab": {
          "base_uri": "https://localhost:8080/",
          "height": 424
        },
        "id": "CfyprS_fVoLY",
        "outputId": "8127fad5-484c-4017-f546-fa6ba9496326"
      },
      "execution_count": null,
      "outputs": [
        {
          "output_type": "execute_result",
          "data": {
            "text/plain": [
              "        subscription_type  is_comeback  is_same_city\n",
              "0                       1            1             1\n",
              "1                       1            1             1\n",
              "2                       1            1             1\n",
              "3                       1            1             1\n",
              "4                       1            0             1\n",
              "...                   ...          ...           ...\n",
              "669954                  1            0             1\n",
              "669955                  0            0             1\n",
              "669956                  0            0             1\n",
              "669957                  0            0             1\n",
              "669958                  0            0             1\n",
              "\n",
              "[669617 rows x 3 columns]"
            ],
            "text/html": [
              "\n",
              "  <div id=\"df-845091db-2be5-4fc9-9623-301b7891edeb\">\n",
              "    <div class=\"colab-df-container\">\n",
              "      <div>\n",
              "<style scoped>\n",
              "    .dataframe tbody tr th:only-of-type {\n",
              "        vertical-align: middle;\n",
              "    }\n",
              "\n",
              "    .dataframe tbody tr th {\n",
              "        vertical-align: top;\n",
              "    }\n",
              "\n",
              "    .dataframe thead th {\n",
              "        text-align: right;\n",
              "    }\n",
              "</style>\n",
              "<table border=\"1\" class=\"dataframe\">\n",
              "  <thead>\n",
              "    <tr style=\"text-align: right;\">\n",
              "      <th></th>\n",
              "      <th>subscription_type</th>\n",
              "      <th>is_comeback</th>\n",
              "      <th>is_same_city</th>\n",
              "    </tr>\n",
              "  </thead>\n",
              "  <tbody>\n",
              "    <tr>\n",
              "      <th>0</th>\n",
              "      <td>1</td>\n",
              "      <td>1</td>\n",
              "      <td>1</td>\n",
              "    </tr>\n",
              "    <tr>\n",
              "      <th>1</th>\n",
              "      <td>1</td>\n",
              "      <td>1</td>\n",
              "      <td>1</td>\n",
              "    </tr>\n",
              "    <tr>\n",
              "      <th>2</th>\n",
              "      <td>1</td>\n",
              "      <td>1</td>\n",
              "      <td>1</td>\n",
              "    </tr>\n",
              "    <tr>\n",
              "      <th>3</th>\n",
              "      <td>1</td>\n",
              "      <td>1</td>\n",
              "      <td>1</td>\n",
              "    </tr>\n",
              "    <tr>\n",
              "      <th>4</th>\n",
              "      <td>1</td>\n",
              "      <td>0</td>\n",
              "      <td>1</td>\n",
              "    </tr>\n",
              "    <tr>\n",
              "      <th>...</th>\n",
              "      <td>...</td>\n",
              "      <td>...</td>\n",
              "      <td>...</td>\n",
              "    </tr>\n",
              "    <tr>\n",
              "      <th>669954</th>\n",
              "      <td>1</td>\n",
              "      <td>0</td>\n",
              "      <td>1</td>\n",
              "    </tr>\n",
              "    <tr>\n",
              "      <th>669955</th>\n",
              "      <td>0</td>\n",
              "      <td>0</td>\n",
              "      <td>1</td>\n",
              "    </tr>\n",
              "    <tr>\n",
              "      <th>669956</th>\n",
              "      <td>0</td>\n",
              "      <td>0</td>\n",
              "      <td>1</td>\n",
              "    </tr>\n",
              "    <tr>\n",
              "      <th>669957</th>\n",
              "      <td>0</td>\n",
              "      <td>0</td>\n",
              "      <td>1</td>\n",
              "    </tr>\n",
              "    <tr>\n",
              "      <th>669958</th>\n",
              "      <td>0</td>\n",
              "      <td>0</td>\n",
              "      <td>1</td>\n",
              "    </tr>\n",
              "  </tbody>\n",
              "</table>\n",
              "<p>669617 rows × 3 columns</p>\n",
              "</div>\n",
              "      <button class=\"colab-df-convert\" onclick=\"convertToInteractive('df-845091db-2be5-4fc9-9623-301b7891edeb')\"\n",
              "              title=\"Convert this dataframe to an interactive table.\"\n",
              "              style=\"display:none;\">\n",
              "        \n",
              "  <svg xmlns=\"http://www.w3.org/2000/svg\" height=\"24px\"viewBox=\"0 0 24 24\"\n",
              "       width=\"24px\">\n",
              "    <path d=\"M0 0h24v24H0V0z\" fill=\"none\"/>\n",
              "    <path d=\"M18.56 5.44l.94 2.06.94-2.06 2.06-.94-2.06-.94-.94-2.06-.94 2.06-2.06.94zm-11 1L8.5 8.5l.94-2.06 2.06-.94-2.06-.94L8.5 2.5l-.94 2.06-2.06.94zm10 10l.94 2.06.94-2.06 2.06-.94-2.06-.94-.94-2.06-.94 2.06-2.06.94z\"/><path d=\"M17.41 7.96l-1.37-1.37c-.4-.4-.92-.59-1.43-.59-.52 0-1.04.2-1.43.59L10.3 9.45l-7.72 7.72c-.78.78-.78 2.05 0 2.83L4 21.41c.39.39.9.59 1.41.59.51 0 1.02-.2 1.41-.59l7.78-7.78 2.81-2.81c.8-.78.8-2.07 0-2.86zM5.41 20L4 18.59l7.72-7.72 1.47 1.35L5.41 20z\"/>\n",
              "  </svg>\n",
              "      </button>\n",
              "      \n",
              "  <style>\n",
              "    .colab-df-container {\n",
              "      display:flex;\n",
              "      flex-wrap:wrap;\n",
              "      gap: 12px;\n",
              "    }\n",
              "\n",
              "    .colab-df-convert {\n",
              "      background-color: #E8F0FE;\n",
              "      border: none;\n",
              "      border-radius: 50%;\n",
              "      cursor: pointer;\n",
              "      display: none;\n",
              "      fill: #1967D2;\n",
              "      height: 32px;\n",
              "      padding: 0 0 0 0;\n",
              "      width: 32px;\n",
              "    }\n",
              "\n",
              "    .colab-df-convert:hover {\n",
              "      background-color: #E2EBFA;\n",
              "      box-shadow: 0px 1px 2px rgba(60, 64, 67, 0.3), 0px 1px 3px 1px rgba(60, 64, 67, 0.15);\n",
              "      fill: #174EA6;\n",
              "    }\n",
              "\n",
              "    [theme=dark] .colab-df-convert {\n",
              "      background-color: #3B4455;\n",
              "      fill: #D2E3FC;\n",
              "    }\n",
              "\n",
              "    [theme=dark] .colab-df-convert:hover {\n",
              "      background-color: #434B5C;\n",
              "      box-shadow: 0px 1px 3px 1px rgba(0, 0, 0, 0.15);\n",
              "      filter: drop-shadow(0px 1px 2px rgba(0, 0, 0, 0.3));\n",
              "      fill: #FFFFFF;\n",
              "    }\n",
              "  </style>\n",
              "\n",
              "      <script>\n",
              "        const buttonEl =\n",
              "          document.querySelector('#df-845091db-2be5-4fc9-9623-301b7891edeb button.colab-df-convert');\n",
              "        buttonEl.style.display =\n",
              "          google.colab.kernel.accessAllowed ? 'block' : 'none';\n",
              "\n",
              "        async function convertToInteractive(key) {\n",
              "          const element = document.querySelector('#df-845091db-2be5-4fc9-9623-301b7891edeb');\n",
              "          const dataTable =\n",
              "            await google.colab.kernel.invokeFunction('convertToInteractive',\n",
              "                                                     [key], {});\n",
              "          if (!dataTable) return;\n",
              "\n",
              "          const docLinkHtml = 'Like what you see? Visit the ' +\n",
              "            '<a target=\"_blank\" href=https://colab.research.google.com/notebooks/data_table.ipynb>data table notebook</a>'\n",
              "            + ' to learn more about interactive tables.';\n",
              "          element.innerHTML = '';\n",
              "          dataTable['output_type'] = 'display_data';\n",
              "          await google.colab.output.renderOutput(dataTable, element);\n",
              "          const docLink = document.createElement('div');\n",
              "          docLink.innerHTML = docLinkHtml;\n",
              "          element.appendChild(docLink);\n",
              "        }\n",
              "      </script>\n",
              "    </div>\n",
              "  </div>\n",
              "  "
            ]
          },
          "metadata": {},
          "execution_count": 46
        }
      ]
    },
    {
      "cell_type": "code",
      "source": [
        "tau, p_value = scipy.stats.kendalltau(df_binary['subscription_type'], df_binary.is_comeback)\n",
        "print(tau, p_value) # tau : correlation 계수\n"
      ],
      "metadata": {
        "id": "r89MJ_1DVKvZ",
        "colab": {
          "base_uri": "https://localhost:8080/"
        },
        "outputId": "2f6e4802-d03f-49df-fd22-eab955590cc1"
      },
      "execution_count": null,
      "outputs": [
        {
          "output_type": "stream",
          "name": "stdout",
          "text": [
            "-0.28331023173022507 0.0\n"
          ]
        },
        {
          "output_type": "stream",
          "name": "stderr",
          "text": [
            "/usr/local/lib/python3.7/dist-packages/scipy/stats/stats.py:4812: RuntimeWarning: overflow encountered in long_scalars\n",
            "  (2 * xtie * ytie) / m + x0 * y0 / (9 * m * (size - 2)))\n"
          ]
        }
      ]
    },
    {
      "cell_type": "markdown",
      "source": [
        "- 귀무 가설 : 서로 상관관계 없다  \n",
        "p value < 0.5 -> 귀무가설 기각  \n",
        "  -> 귀무가설이 실제로 참인데 이를 기각하는 오류 ->  1종 오류 , 0.5면 100번 중 최대 5번까지만 오류 허용  \n",
        "  상관관계 있다 -> 값 신뢰 가능! "
      ],
      "metadata": {
        "id": "O2c67xgzglAi"
      }
    },
    {
      "cell_type": "code",
      "source": [
        "tau2, p_value3 = scipy.stats.kendalltau(df_binary['subscription_type'], df_binary.is_same_city)\n",
        "print(tau2, p_value3) # tau : correlation 계수"
      ],
      "metadata": {
        "colab": {
          "base_uri": "https://localhost:8080/"
        },
        "id": "8snVYqLjcnKf",
        "outputId": "dae1e8b8-2bd9-4ace-a1ab-b25805aa6486"
      },
      "execution_count": null,
      "outputs": [
        {
          "output_type": "stream",
          "name": "stdout",
          "text": [
            "0.03844975262410124 7.006538194252586e-218\n"
          ]
        }
      ]
    },
    {
      "cell_type": "code",
      "source": [
        "tau3, p_value3 = scipy.stats.kendalltau(df_binary.is_same_city, df_binary.is_comeback)\n",
        "print(tau3, p_value3) # tau : correlation 계수"
      ],
      "metadata": {
        "colab": {
          "base_uri": "https://localhost:8080/"
        },
        "id": "izQnUgUUcn98",
        "outputId": "3d375cb6-637f-42eb-fcc6-a55b140c4557"
      },
      "execution_count": null,
      "outputs": [
        {
          "output_type": "stream",
          "name": "stdout",
          "text": [
            "0.007547571752179554 5.063570690613981e-10\n"
          ]
        }
      ]
    },
    {
      "cell_type": "markdown",
      "source": [
        "# 시계열 feature engineering"
      ],
      "metadata": {
        "id": "aqyNXIf1qxZl"
      }
    },
    {
      "cell_type": "code",
      "execution_count": null,
      "metadata": {
        "id": "Q8t37TUwKM3q"
      },
      "outputs": [],
      "source": [
        "from datetime import datetime, date, time\n",
        "\n",
        "# 월,일,연, 시,분 으로 타입 변경\n",
        "df['start_date'] = pd.to_datetime(df['start_date'], format='%m/%d/%Y %H:%M')"
      ]
    },
    {
      "cell_type": "code",
      "execution_count": null,
      "metadata": {
        "id": "HQAwgrxwz6fe"
      },
      "outputs": [],
      "source": [
        "# 계절 feature\n",
        "\n",
        "def set_season(month):\n",
        "  if 3 <= month <= 5 :\n",
        "    return 'spring'\n",
        "  elif 6 <= month <= 8 :\n",
        "    return 'summer'  \n",
        "  elif 9 <= month <= 11 :\n",
        "    return 'fall'  \n",
        "  elif  (month <= 2) or (month == 12) :\n",
        "    return 'winter'   "
      ]
    },
    {
      "cell_type": "code",
      "execution_count": null,
      "metadata": {
        "colab": {
          "base_uri": "https://localhost:8080/"
        },
        "id": "ulH1M40vlFmH",
        "outputId": "e2c71497-fd7f-4f98-c665-93211b0fe454"
      },
      "outputs": [
        {
          "output_type": "execute_result",
          "data": {
            "text/plain": [
              "summer    0.284899\n",
              "spring    0.256527\n",
              "fall      0.253706\n",
              "winter    0.204868\n",
              "Name: season, dtype: float64"
            ]
          },
          "metadata": {},
          "execution_count": 52
        }
      ],
      "source": [
        "df['season'] = df['start_date'].dt.month.apply(set_season)\n",
        "df['season'].value_counts(normalize=True)"
      ]
    },
    {
      "cell_type": "code",
      "execution_count": null,
      "metadata": {
        "id": "lb0etaxQp9LD"
      },
      "outputs": [],
      "source": [
        "# 요일\n",
        "\n",
        "def what_day(date):\n",
        "    days = ['Mon', 'Tue', 'Wed', 'Thu', 'Fri', 'Sat', 'Sun']\n",
        "\n",
        "    # 들어온 date(YYYY_MM_DD).weekday() -> 0-6까지 매핑된 결과로 출력 그래서 리스트에 변환\n",
        "    day = date.weekday()\n",
        "    return days[day]\n"
      ]
    },
    {
      "cell_type": "code",
      "execution_count": null,
      "metadata": {
        "colab": {
          "base_uri": "https://localhost:8080/"
        },
        "id": "YALpQG--nJ7o",
        "outputId": "6e038025-8164-4db6-d459-dc95914869f1"
      },
      "outputs": [
        {
          "output_type": "execute_result",
          "data": {
            "text/plain": [
              "Tue    0.182533\n",
              "Wed    0.179450\n",
              "Thu    0.177773\n",
              "Mon    0.172990\n",
              "Fri    0.163213\n",
              "Sat    0.066781\n",
              "Sun    0.057260\n",
              "Name: day, dtype: float64"
            ]
          },
          "metadata": {},
          "execution_count": 54
        }
      ],
      "source": [
        "df['day'] = df['start_date'].dt.date.apply(what_day)\n",
        "df['day'].value_counts(normalize=True)"
      ]
    },
    {
      "cell_type": "code",
      "execution_count": null,
      "metadata": {
        "id": "jIjEt1EXtdxq"
      },
      "outputs": [],
      "source": [
        "# 평일 or 주말 feature\n",
        "\n",
        "def check_weekend(date):\n",
        "    weekday = date.weekday()\n",
        "    if weekday <= 4:\n",
        "        return 'weekdays'\n",
        "    if weekday > 4:\n",
        "        return 'weekend'"
      ]
    },
    {
      "cell_type": "code",
      "source": [
        "df['is_weekend'] = df['start_date'].dt.date.apply(check_weekend)\n",
        "df['is_weekend'].value_counts(2)"
      ],
      "metadata": {
        "colab": {
          "base_uri": "https://localhost:8080/"
        },
        "id": "T3N-UtV7a5Q7",
        "outputId": "ef590b72-371c-4a66-e229-82df1d789f0c"
      },
      "execution_count": null,
      "outputs": [
        {
          "output_type": "execute_result",
          "data": {
            "text/plain": [
              "weekdays    0.875959\n",
              "weekend     0.124041\n",
              "Name: is_weekend, dtype: float64"
            ]
          },
          "metadata": {},
          "execution_count": 56
        }
      ]
    },
    {
      "cell_type": "code",
      "execution_count": null,
      "metadata": {
        "id": "HPeST-LcqMNW"
      },
      "outputs": [],
      "source": [
        "# 시간대 \n",
        "\n",
        "def what_time(oclock):\n",
        "  # input에 time 넣으면 안됨, 함수라서\n",
        "  six = time(6)\n",
        "  ten = time(10)\n",
        "  seventeen = time(17)\n",
        "  twenty_one = time(21)\n",
        "\n",
        "  if (six <= oclock < ten) or (seventeen <= oclock < twenty_one) :\n",
        "    return 'commute'\n",
        "  elif (oclock < six) or (twenty_one <= oclock) :\n",
        "    return 'night'  \n",
        "  elif ten <= oclock < seventeen :\n",
        "    return 'day'   "
      ]
    },
    {
      "cell_type": "code",
      "execution_count": null,
      "metadata": {
        "id": "MRNI455lrvjY",
        "colab": {
          "base_uri": "https://localhost:8080/"
        },
        "outputId": "d6cb1a6c-9542-4506-e01a-4e0fdfde1127"
      },
      "outputs": [
        {
          "output_type": "execute_result",
          "data": {
            "text/plain": [
              "commute    0.58684\n",
              "day        0.36541\n",
              "night      0.04775\n",
              "Name: time, dtype: float64"
            ]
          },
          "metadata": {},
          "execution_count": 58
        }
      ],
      "source": [
        "df['time'] = df['start_date'].dt.time.apply(what_time)\n",
        "df['time'].value_counts(1)"
      ]
    },
    {
      "cell_type": "code",
      "source": [
        "df.drop(columns=['start_date', 'end_date'], inplace=True) # move_city 삭제?\n",
        "# distance 0 인 것들 어떻게 처리할까?\n"
      ],
      "metadata": {
        "id": "BIb3aZGdaJGI"
      },
      "execution_count": null,
      "outputs": []
    },
    {
      "cell_type": "markdown",
      "source": [
        "randomforest 에서 nominal feature 어떻게 encoding 할까?"
      ],
      "metadata": {
        "id": "BfuEN8FC3Wa7"
      }
    },
    {
      "cell_type": "code",
      "source": [
        "df.head()\n",
        "# print(df.shape)"
      ],
      "metadata": {
        "colab": {
          "base_uri": "https://localhost:8080/",
          "height": 409
        },
        "id": "5IDVzsOtQX_1",
        "outputId": "0907df57-54aa-4c6e-89c1-8a8fe04b80e5"
      },
      "execution_count": null,
      "outputs": [
        {
          "output_type": "execute_result",
          "data": {
            "text/plain": [
              "   duration  start_station_id  end_station_id  bike_id  subscription_type  \\\n",
              "0  4.158883                66              66      520                  1   \n",
              "1  4.262680                10              10      661                  1   \n",
              "2  4.276666                27              27       48                  1   \n",
              "3  4.356709                10              10       26                  1   \n",
              "4  4.430817                66              67      319                  1   \n",
              "\n",
              "      start_city       end_city                    move_city  \\\n",
              "0  San Francisco  San Francisco  San Francisco_San Francisco   \n",
              "1       San Jose       San Jose            San Jose_San Jose   \n",
              "2  Mountain View  Mountain View  Mountain View_Mountain View   \n",
              "3       San Jose       San Jose            San Jose_San Jose   \n",
              "4  San Francisco  San Francisco  San Francisco_San Francisco   \n",
              "\n",
              "   distance_diagonal  distance_lat+long  is_comeback  is_same_city  season  \\\n",
              "0           0.000000           0.000000            1             1  summer   \n",
              "1           0.000000           0.000000            1             1  summer   \n",
              "2           0.000000           0.000000            1             1  summer   \n",
              "3           0.000000           0.000000            1             1  summer   \n",
              "4           0.217942           0.291631            0             1  summer   \n",
              "\n",
              "   day is_weekend time  \n",
              "0  Thu   weekdays  day  \n",
              "1  Thu   weekdays  day  \n",
              "2  Thu   weekdays  day  \n",
              "3  Thu   weekdays  day  \n",
              "4  Thu   weekdays  day  "
            ],
            "text/html": [
              "\n",
              "  <div id=\"df-38f8ee2a-4415-4674-9edb-0258f5026119\">\n",
              "    <div class=\"colab-df-container\">\n",
              "      <div>\n",
              "<style scoped>\n",
              "    .dataframe tbody tr th:only-of-type {\n",
              "        vertical-align: middle;\n",
              "    }\n",
              "\n",
              "    .dataframe tbody tr th {\n",
              "        vertical-align: top;\n",
              "    }\n",
              "\n",
              "    .dataframe thead th {\n",
              "        text-align: right;\n",
              "    }\n",
              "</style>\n",
              "<table border=\"1\" class=\"dataframe\">\n",
              "  <thead>\n",
              "    <tr style=\"text-align: right;\">\n",
              "      <th></th>\n",
              "      <th>duration</th>\n",
              "      <th>start_station_id</th>\n",
              "      <th>end_station_id</th>\n",
              "      <th>bike_id</th>\n",
              "      <th>subscription_type</th>\n",
              "      <th>start_city</th>\n",
              "      <th>end_city</th>\n",
              "      <th>move_city</th>\n",
              "      <th>distance_diagonal</th>\n",
              "      <th>distance_lat+long</th>\n",
              "      <th>is_comeback</th>\n",
              "      <th>is_same_city</th>\n",
              "      <th>season</th>\n",
              "      <th>day</th>\n",
              "      <th>is_weekend</th>\n",
              "      <th>time</th>\n",
              "    </tr>\n",
              "  </thead>\n",
              "  <tbody>\n",
              "    <tr>\n",
              "      <th>0</th>\n",
              "      <td>4.158883</td>\n",
              "      <td>66</td>\n",
              "      <td>66</td>\n",
              "      <td>520</td>\n",
              "      <td>1</td>\n",
              "      <td>San Francisco</td>\n",
              "      <td>San Francisco</td>\n",
              "      <td>San Francisco_San Francisco</td>\n",
              "      <td>0.000000</td>\n",
              "      <td>0.000000</td>\n",
              "      <td>1</td>\n",
              "      <td>1</td>\n",
              "      <td>summer</td>\n",
              "      <td>Thu</td>\n",
              "      <td>weekdays</td>\n",
              "      <td>day</td>\n",
              "    </tr>\n",
              "    <tr>\n",
              "      <th>1</th>\n",
              "      <td>4.262680</td>\n",
              "      <td>10</td>\n",
              "      <td>10</td>\n",
              "      <td>661</td>\n",
              "      <td>1</td>\n",
              "      <td>San Jose</td>\n",
              "      <td>San Jose</td>\n",
              "      <td>San Jose_San Jose</td>\n",
              "      <td>0.000000</td>\n",
              "      <td>0.000000</td>\n",
              "      <td>1</td>\n",
              "      <td>1</td>\n",
              "      <td>summer</td>\n",
              "      <td>Thu</td>\n",
              "      <td>weekdays</td>\n",
              "      <td>day</td>\n",
              "    </tr>\n",
              "    <tr>\n",
              "      <th>2</th>\n",
              "      <td>4.276666</td>\n",
              "      <td>27</td>\n",
              "      <td>27</td>\n",
              "      <td>48</td>\n",
              "      <td>1</td>\n",
              "      <td>Mountain View</td>\n",
              "      <td>Mountain View</td>\n",
              "      <td>Mountain View_Mountain View</td>\n",
              "      <td>0.000000</td>\n",
              "      <td>0.000000</td>\n",
              "      <td>1</td>\n",
              "      <td>1</td>\n",
              "      <td>summer</td>\n",
              "      <td>Thu</td>\n",
              "      <td>weekdays</td>\n",
              "      <td>day</td>\n",
              "    </tr>\n",
              "    <tr>\n",
              "      <th>3</th>\n",
              "      <td>4.356709</td>\n",
              "      <td>10</td>\n",
              "      <td>10</td>\n",
              "      <td>26</td>\n",
              "      <td>1</td>\n",
              "      <td>San Jose</td>\n",
              "      <td>San Jose</td>\n",
              "      <td>San Jose_San Jose</td>\n",
              "      <td>0.000000</td>\n",
              "      <td>0.000000</td>\n",
              "      <td>1</td>\n",
              "      <td>1</td>\n",
              "      <td>summer</td>\n",
              "      <td>Thu</td>\n",
              "      <td>weekdays</td>\n",
              "      <td>day</td>\n",
              "    </tr>\n",
              "    <tr>\n",
              "      <th>4</th>\n",
              "      <td>4.430817</td>\n",
              "      <td>66</td>\n",
              "      <td>67</td>\n",
              "      <td>319</td>\n",
              "      <td>1</td>\n",
              "      <td>San Francisco</td>\n",
              "      <td>San Francisco</td>\n",
              "      <td>San Francisco_San Francisco</td>\n",
              "      <td>0.217942</td>\n",
              "      <td>0.291631</td>\n",
              "      <td>0</td>\n",
              "      <td>1</td>\n",
              "      <td>summer</td>\n",
              "      <td>Thu</td>\n",
              "      <td>weekdays</td>\n",
              "      <td>day</td>\n",
              "    </tr>\n",
              "  </tbody>\n",
              "</table>\n",
              "</div>\n",
              "      <button class=\"colab-df-convert\" onclick=\"convertToInteractive('df-38f8ee2a-4415-4674-9edb-0258f5026119')\"\n",
              "              title=\"Convert this dataframe to an interactive table.\"\n",
              "              style=\"display:none;\">\n",
              "        \n",
              "  <svg xmlns=\"http://www.w3.org/2000/svg\" height=\"24px\"viewBox=\"0 0 24 24\"\n",
              "       width=\"24px\">\n",
              "    <path d=\"M0 0h24v24H0V0z\" fill=\"none\"/>\n",
              "    <path d=\"M18.56 5.44l.94 2.06.94-2.06 2.06-.94-2.06-.94-.94-2.06-.94 2.06-2.06.94zm-11 1L8.5 8.5l.94-2.06 2.06-.94-2.06-.94L8.5 2.5l-.94 2.06-2.06.94zm10 10l.94 2.06.94-2.06 2.06-.94-2.06-.94-.94-2.06-.94 2.06-2.06.94z\"/><path d=\"M17.41 7.96l-1.37-1.37c-.4-.4-.92-.59-1.43-.59-.52 0-1.04.2-1.43.59L10.3 9.45l-7.72 7.72c-.78.78-.78 2.05 0 2.83L4 21.41c.39.39.9.59 1.41.59.51 0 1.02-.2 1.41-.59l7.78-7.78 2.81-2.81c.8-.78.8-2.07 0-2.86zM5.41 20L4 18.59l7.72-7.72 1.47 1.35L5.41 20z\"/>\n",
              "  </svg>\n",
              "      </button>\n",
              "      \n",
              "  <style>\n",
              "    .colab-df-container {\n",
              "      display:flex;\n",
              "      flex-wrap:wrap;\n",
              "      gap: 12px;\n",
              "    }\n",
              "\n",
              "    .colab-df-convert {\n",
              "      background-color: #E8F0FE;\n",
              "      border: none;\n",
              "      border-radius: 50%;\n",
              "      cursor: pointer;\n",
              "      display: none;\n",
              "      fill: #1967D2;\n",
              "      height: 32px;\n",
              "      padding: 0 0 0 0;\n",
              "      width: 32px;\n",
              "    }\n",
              "\n",
              "    .colab-df-convert:hover {\n",
              "      background-color: #E2EBFA;\n",
              "      box-shadow: 0px 1px 2px rgba(60, 64, 67, 0.3), 0px 1px 3px 1px rgba(60, 64, 67, 0.15);\n",
              "      fill: #174EA6;\n",
              "    }\n",
              "\n",
              "    [theme=dark] .colab-df-convert {\n",
              "      background-color: #3B4455;\n",
              "      fill: #D2E3FC;\n",
              "    }\n",
              "\n",
              "    [theme=dark] .colab-df-convert:hover {\n",
              "      background-color: #434B5C;\n",
              "      box-shadow: 0px 1px 3px 1px rgba(0, 0, 0, 0.15);\n",
              "      filter: drop-shadow(0px 1px 2px rgba(0, 0, 0, 0.3));\n",
              "      fill: #FFFFFF;\n",
              "    }\n",
              "  </style>\n",
              "\n",
              "      <script>\n",
              "        const buttonEl =\n",
              "          document.querySelector('#df-38f8ee2a-4415-4674-9edb-0258f5026119 button.colab-df-convert');\n",
              "        buttonEl.style.display =\n",
              "          google.colab.kernel.accessAllowed ? 'block' : 'none';\n",
              "\n",
              "        async function convertToInteractive(key) {\n",
              "          const element = document.querySelector('#df-38f8ee2a-4415-4674-9edb-0258f5026119');\n",
              "          const dataTable =\n",
              "            await google.colab.kernel.invokeFunction('convertToInteractive',\n",
              "                                                     [key], {});\n",
              "          if (!dataTable) return;\n",
              "\n",
              "          const docLinkHtml = 'Like what you see? Visit the ' +\n",
              "            '<a target=\"_blank\" href=https://colab.research.google.com/notebooks/data_table.ipynb>data table notebook</a>'\n",
              "            + ' to learn more about interactive tables.';\n",
              "          element.innerHTML = '';\n",
              "          dataTable['output_type'] = 'display_data';\n",
              "          await google.colab.output.renderOutput(dataTable, element);\n",
              "          const docLink = document.createElement('div');\n",
              "          docLink.innerHTML = docLinkHtml;\n",
              "          element.appendChild(docLink);\n",
              "        }\n",
              "      </script>\n",
              "    </div>\n",
              "  </div>\n",
              "  "
            ]
          },
          "metadata": {},
          "execution_count": 60
        }
      ]
    },
    {
      "cell_type": "code",
      "source": [
        "df.weekend_num.value_counts()"
      ],
      "metadata": {
        "colab": {
          "base_uri": "https://localhost:8080/"
        },
        "id": "DqSNESdu_e2h",
        "outputId": "64b76578-3a7b-4835-b644-b35c1368a071"
      },
      "execution_count": null,
      "outputs": [
        {
          "output_type": "execute_result",
          "data": {
            "text/plain": [
              "0    586557\n",
              "1     83060\n",
              "Name: weekend_num, dtype: int64"
            ]
          },
          "metadata": {},
          "execution_count": 69
        }
      ]
    },
    {
      "cell_type": "code",
      "source": [
        "df['weekend_num'] = df.is_weekend.apply(lambda x: 0 if x == 'weekdays' else 1)"
      ],
      "metadata": {
        "id": "L3D-zIHL_L49"
      },
      "execution_count": null,
      "outputs": []
    },
    {
      "cell_type": "code",
      "source": [
        "## 가설 검증 pearson 상관계수\n",
        "\n",
        "from scipy.stats import pearsonr\n",
        "print(pearsonr(df.duration, df.subscription_type))\n",
        "print(pearsonr(df.distance_diagonal, df.subscription_type))\n",
        "print('\\n')\n",
        "print(pearsonr(df['distance_lat+long'], df.subscription_type))\n",
        "print(pearsonr(df.weekend_num, df.subscription_type))\n",
        "\n",
        "\n"
      ],
      "metadata": {
        "colab": {
          "base_uri": "https://localhost:8080/"
        },
        "id": "4Afi1TXq8peH",
        "outputId": "d0bc1959-ef6f-4329-d1fe-b319f7026f29"
      },
      "execution_count": null,
      "outputs": [
        {
          "output_type": "stream",
          "name": "stdout",
          "text": [
            "(-0.5092691082474579, 0.0)\n",
            "(0.10729939018696352, 0.0)\n",
            "\n",
            "\n",
            "(0.11009680111561349, 0.0)\n",
            "(-0.3633974536898035, 0.0)\n"
          ]
        }
      ]
    },
    {
      "cell_type": "markdown",
      "source": [
        "# 모델링\n"
      ],
      "metadata": {
        "id": "IrtNJUEZWqQX"
      }
    },
    {
      "cell_type": "code",
      "source": [
        "# 데이터 전처리from sklearn.feature_selection import SelectKBest\n",
        "from sklearn.pipeline import Pipeline\n",
        "from sklearn.pipeline import make_pipeline # 뭔 차이?\n",
        "from sklearn.decomposition import PCA\n",
        "from sklearn.preprocessing import StandardScaler\n",
        "from sklearn.metrics import classification_report\n",
        "\n",
        "!pip install category_encoders\n",
        "from category_encoders import OneHotEncoder\n",
        "from category_encoders import OrdinalEncoder\n",
        "from category_encoders import TargetEncoder\n",
        "from scipy.stats import randint, uniform\n",
        "\n",
        "\n",
        "\n",
        "# 모델링\n",
        "from sklearn.model_selection import RandomizedSearchCV\n",
        "from sklearn.model_selection import RandomizedSearchCV\n",
        "from sklearn.model_selection import cross_val_score\n",
        "from sklearn.model_selection import KFold\n",
        "\n",
        "from sklearn.ensemble import GradientBoostingRegressor, AdaBoostRegressor\n",
        "from sklearn.linear_model import LogisticRegression\n",
        "from xgboost import XGBRegressor\n",
        "from lightgbm import LGBMRegressor\n",
        "import xgboost as xgb\n",
        "from lightgbm import LGBMClassifier\n",
        "from sklearn.ensemble import RandomForestClassifier\n",
        "\n",
        "\n",
        "# 모델 평가 및 해석\n",
        "from sklearn.metrics import f1_score, roc_auc_score, auc, accuracy_score"
      ],
      "metadata": {
        "id": "XB7cMGNqrTSZ",
        "outputId": "da0c8069-e872-479d-81e3-ec66641efa13",
        "colab": {
          "base_uri": "https://localhost:8080/"
        }
      },
      "execution_count": null,
      "outputs": [
        {
          "output_type": "stream",
          "name": "stdout",
          "text": [
            "Looking in indexes: https://pypi.org/simple, https://us-python.pkg.dev/colab-wheels/public/simple/\n",
            "Collecting category_encoders\n",
            "  Downloading category_encoders-2.5.1.post0-py2.py3-none-any.whl (72 kB)\n",
            "\u001b[?25l\r\u001b[K     |████▌                           | 10 kB 22.9 MB/s eta 0:00:01\r\u001b[K     |█████████                       | 20 kB 7.4 MB/s eta 0:00:01\r\u001b[K     |█████████████▋                  | 30 kB 10.4 MB/s eta 0:00:01\r\u001b[K     |██████████████████              | 40 kB 4.5 MB/s eta 0:00:01\r\u001b[K     |██████████████████████▋         | 51 kB 4.6 MB/s eta 0:00:01\r\u001b[K     |███████████████████████████▏    | 61 kB 5.5 MB/s eta 0:00:01\r\u001b[K     |███████████████████████████████▊| 71 kB 6.0 MB/s eta 0:00:01\r\u001b[K     |████████████████████████████████| 72 kB 729 kB/s \n",
            "\u001b[?25hRequirement already satisfied: scikit-learn>=0.20.0 in /usr/local/lib/python3.7/dist-packages (from category_encoders) (1.0.2)\n",
            "Requirement already satisfied: scipy>=1.0.0 in /usr/local/lib/python3.7/dist-packages (from category_encoders) (1.7.3)\n",
            "Requirement already satisfied: statsmodels>=0.9.0 in /usr/local/lib/python3.7/dist-packages (from category_encoders) (0.12.2)\n",
            "Requirement already satisfied: patsy>=0.5.1 in /usr/local/lib/python3.7/dist-packages (from category_encoders) (0.5.3)\n",
            "Requirement already satisfied: pandas>=1.0.5 in /usr/local/lib/python3.7/dist-packages (from category_encoders) (1.3.5)\n",
            "Requirement already satisfied: numpy>=1.14.0 in /usr/local/lib/python3.7/dist-packages (from category_encoders) (1.21.6)\n",
            "Requirement already satisfied: pytz>=2017.3 in /usr/local/lib/python3.7/dist-packages (from pandas>=1.0.5->category_encoders) (2022.5)\n",
            "Requirement already satisfied: python-dateutil>=2.7.3 in /usr/local/lib/python3.7/dist-packages (from pandas>=1.0.5->category_encoders) (2.8.2)\n",
            "Requirement already satisfied: six in /usr/local/lib/python3.7/dist-packages (from patsy>=0.5.1->category_encoders) (1.15.0)\n",
            "Requirement already satisfied: joblib>=0.11 in /usr/local/lib/python3.7/dist-packages (from scikit-learn>=0.20.0->category_encoders) (1.2.0)\n",
            "Requirement already satisfied: threadpoolctl>=2.0.0 in /usr/local/lib/python3.7/dist-packages (from scikit-learn>=0.20.0->category_encoders) (3.1.0)\n",
            "Installing collected packages: category-encoders\n",
            "Successfully installed category-encoders-2.5.1.post0\n"
          ]
        }
      ]
    },
    {
      "cell_type": "code",
      "execution_count": null,
      "metadata": {
        "id": "9fd4bab4"
      },
      "outputs": [],
      "source": [
        "from sklearn.model_selection import train_test_split\n",
        "\n",
        "def split(df):\n",
        "    features = df.columns.drop('subscription_type')\n",
        "    target = 'subscription_type'\n",
        "\n",
        "    X_train, X_test, y_train, y_test = train_test_split(df[features], df[target], train_size = 0.8, test_size = 0.2, random_state = 42)\n",
        "  \n",
        "    return X_train, X_test, y_train, y_test"
      ]
    },
    {
      "cell_type": "code",
      "execution_count": null,
      "metadata": {
        "id": "e3093d3d"
      },
      "outputs": [],
      "source": [
        "# original\n",
        "X_train, X_test, y_train, y_test = split(df)\n",
        "\n",
        "# numeric\n",
        "# X_train, X_test, y_train, y_test = split(trip_num)"
      ]
    },
    {
      "cell_type": "code",
      "execution_count": null,
      "metadata": {
        "colab": {
          "base_uri": "https://localhost:8080/"
        },
        "id": "f9587b1e",
        "outputId": "ef94d779-2c5a-4faa-fc4f-781800a80856"
      },
      "outputs": [
        {
          "output_type": "stream",
          "name": "stdout",
          "text": [
            "(535693, 15) (133924, 15) (535693,) (133924,)\n"
          ]
        }
      ],
      "source": [
        "print(X_train.shape, X_test.shape, y_train.shape, y_test.shape)"
      ]
    },
    {
      "cell_type": "markdown",
      "source": [
        "# oversampling\n"
      ],
      "metadata": {
        "id": "G1hQEPjyquqq"
      }
    },
    {
      "cell_type": "code",
      "source": [
        "!pip install imbalanced-learn\n",
        "from imblearn.over_sampling import RandomOverSampler\n",
        "from imblearn.over_sampling import SMOTE\n",
        "from imblearn.over_sampling import SMOTENC\n",
        "\n",
        "from collections import Counter\n"
      ],
      "metadata": {
        "colab": {
          "base_uri": "https://localhost:8080/"
        },
        "id": "lpv7GOCXHfio",
        "outputId": "8ee43c04-d883-40b2-8f6d-8f4a8ce6a045"
      },
      "execution_count": null,
      "outputs": [
        {
          "output_type": "stream",
          "name": "stdout",
          "text": [
            "Looking in indexes: https://pypi.org/simple, https://us-python.pkg.dev/colab-wheels/public/simple/\n",
            "Requirement already satisfied: imbalanced-learn in /usr/local/lib/python3.7/dist-packages (0.8.1)\n",
            "Requirement already satisfied: scikit-learn>=0.24 in /usr/local/lib/python3.7/dist-packages (from imbalanced-learn) (1.0.2)\n",
            "Requirement already satisfied: scipy>=0.19.1 in /usr/local/lib/python3.7/dist-packages (from imbalanced-learn) (1.7.3)\n",
            "Requirement already satisfied: numpy>=1.13.3 in /usr/local/lib/python3.7/dist-packages (from imbalanced-learn) (1.21.6)\n",
            "Requirement already satisfied: joblib>=0.11 in /usr/local/lib/python3.7/dist-packages (from imbalanced-learn) (1.2.0)\n",
            "Requirement already satisfied: threadpoolctl>=2.0.0 in /usr/local/lib/python3.7/dist-packages (from scikit-learn>=0.24->imbalanced-learn) (3.1.0)\n"
          ]
        }
      ]
    },
    {
      "cell_type": "code",
      "source": [
        "oversample = RandomOverSampler(sampling_strategy=0.4) \n",
        "X_over, y_over = oversample.fit_resample(X_train, y_train)\n",
        "print(Counter(y_over))"
      ],
      "metadata": {
        "colab": {
          "base_uri": "https://localhost:8080/"
        },
        "id": "Spbd2sasHIo9",
        "outputId": "dae6ccfb-1b66-45c3-d98a-11f42a9ce61b"
      },
      "execution_count": null,
      "outputs": [
        {
          "output_type": "stream",
          "name": "stdout",
          "text": [
            "Counter({1: 453207, 0: 181282})\n"
          ]
        }
      ]
    },
    {
      "cell_type": "code",
      "source": [
        "#불균형 처리\n",
        "smotenc_list = list(X_train.dtypes == object)\n",
        "\n",
        "\n",
        "smote_nc = SMOTENC(categorical_features=smotenc_list, random_state=0)\n",
        "X_resampled, y_resampled = smote_nc.fit_resample(X_train, y_train)\n"
      ],
      "metadata": {
        "id": "KENI7eA518pd"
      },
      "execution_count": null,
      "outputs": []
    },
    {
      "cell_type": "code",
      "source": [
        "print(X_resampled.shape, y_resampled.shape)"
      ],
      "metadata": {
        "colab": {
          "base_uri": "https://localhost:8080/"
        },
        "id": "lmCSGnJ9bJP0",
        "outputId": "0776ff7d-4585-4182-c925-b3a62ce64339"
      },
      "execution_count": null,
      "outputs": [
        {
          "output_type": "stream",
          "name": "stdout",
          "text": [
            "(906414, 15) (906414,)\n"
          ]
        }
      ]
    },
    {
      "cell_type": "code",
      "source": [
        "def fit_cross_base(X_train, y_train):\n",
        "\n",
        "    pipeline = make_pipeline(\n",
        "        OneHotEncoder(),\n",
        "        # TargetEncoder(),\n",
        "        # OrdinalEncoder(), \n",
        "        StandardScaler(),\n",
        "        LogisticRegression()\n",
        "    )\n",
        "\n",
        "   \n",
        "    scores = cross_val_score(pipeline,X_train,y_train,cv=3,scoring='f1') # f1_micro 뭔 차이지?\n",
        "    print('교차검증 f1_score : ', scores.mean())"
      ],
      "metadata": {
        "id": "3N9XAAtGEsa4"
      },
      "execution_count": null,
      "outputs": []
    },
    {
      "cell_type": "code",
      "source": [
        "fit_cross_base(X_over, y_over)"
      ],
      "metadata": {
        "colab": {
          "base_uri": "https://localhost:8080/"
        },
        "id": "mWWqi1zY1ccZ",
        "outputId": "7cff312e-ec94-4397-d7af-d2acdec84533"
      },
      "execution_count": null,
      "outputs": [
        {
          "output_type": "stream",
          "name": "stdout",
          "text": [
            "교차검증 f1_score :  0.902729906156806\n"
          ]
        }
      ]
    },
    {
      "cell_type": "code",
      "source": [
        "def fit_cross_lgbmC(X_train, y_train):\n",
        "\n",
        "    pipeline = make_pipeline(\n",
        "        OneHotEncoder(),\n",
        "        # TargetEncoder(),\n",
        "        # OrdinalEncoder(), \n",
        "        StandardScaler(),\n",
        "        LGBMClassifier(n_estimators=1000, num_leaves=64, n_jobs=-1, boost_from_average=False)\n",
        "\n",
        "        # LGBMRegressor(random_state=2, n_jobs=-1, ), # 목적함수, 오차 제곱 -> 최소화 하는 방향으로 학습\n",
        "    )\n",
        "\n",
        "   \n",
        "    scores = cross_val_score(pipeline,X_train,y_train,cv=3,scoring='f1') # f1_micro 뭔 차이지?\n",
        "    print('교차검증 f1_score: ', scores.mean())"
      ],
      "metadata": {
        "id": "Hj3HXthXBVWg"
      },
      "execution_count": null,
      "outputs": []
    },
    {
      "cell_type": "code",
      "source": [
        "fit_cross_lgbmC(X_over, y_over)"
      ],
      "metadata": {
        "colab": {
          "base_uri": "https://localhost:8080/"
        },
        "outputId": "f1d36d34-24a9-44b5-e439-d3199fc66187",
        "id": "UE1sMKDaBVWg"
      },
      "execution_count": null,
      "outputs": [
        {
          "output_type": "stream",
          "name": "stdout",
          "text": [
            "교차검증 f1_score:  0.9292708756641122\n"
          ]
        }
      ]
    },
    {
      "cell_type": "markdown",
      "source": [
        "# hyper parameter tuning"
      ],
      "metadata": {
        "id": "3gmZxwq2BUz0"
      }
    },
    {
      "cell_type": "code",
      "source": [
        "print(classification_report(y_val, y_pred))"
      ],
      "metadata": {
        "id": "RmgJWs8340sI"
      },
      "execution_count": null,
      "outputs": []
    },
    {
      "cell_type": "code",
      "execution_count": null,
      "metadata": {
        "id": "pGt3dXdgfCaW"
      },
      "outputs": [],
      "source": [
        "def lgbmc_tuning(X_train, y_train):\n",
        "\n",
        "    pipeline = make_pipeline(\n",
        "        OneHotEncoder(),\n",
        "        StandardScaler(),\n",
        "        LGBMClassifier(random_state=2, n_jobs=-1 ), # 목적함수, 오차 제곱 -> 최소화 하는 방향으로 학습\n",
        "    )\n",
        "\n",
        "    dists = {\n",
        "      'lgbmclassifier__num_leaves': [20,40,60,80,100],\n",
        "      'lgbmclassifier__min_child_samples': [5,10,15],\n",
        "      'lgbmclassifier__max_depth': [-1,5,10,20],\n",
        "      'lgbmclassifier__learning_rate': [0.05,0.1,0.2],\n",
        "      'lgbmclassifier__reg_alpha': [0,0.01,0.03]\n",
        "\n",
        "      }\n",
        "\n",
        "    clf = RandomizedSearchCV(\n",
        "        pipeline, \n",
        "        param_distributions=dists, \n",
        "        n_iter=5, \n",
        "        cv=3, \n",
        "        scoring='f1', # f1_macro, f1_weighted 등도 잇음\n",
        "        verbose=1, # 이거 뭐였더라\n",
        "        n_jobs=-1\n",
        "    )\n",
        "\n",
        "    # clf.fit(X_train, y_train)\n",
        "    clf.fit(X_train, y_train,\n",
        "            # early_stopping_rounds=20, # pipeline - early stopping 허용 안함\n",
        "            # eval_metric='rmse',\n",
        "            # eval_set=[(X_test, y_test)] #list(tuple()) 로 넣어줄 것\n",
        "            )\n",
        "    print(\"Optimal Hyperparameter:\", clf.best_params_)\n",
        "    print(\"f1 score:\", -clf.best_score_)\n",
        "\n",
        "    return clf"
      ]
    },
    {
      "cell_type": "code",
      "execution_count": null,
      "metadata": {
        "colab": {
          "base_uri": "https://localhost:8080/"
        },
        "outputId": "1b872f68-a833-4520-838b-875e08e0815b",
        "id": "jyEToEBzhjVI"
      },
      "outputs": [
        {
          "output_type": "stream",
          "name": "stdout",
          "text": [
            "Fitting 3 folds for each of 5 candidates, totalling 15 fits\n"
          ]
        },
        {
          "output_type": "stream",
          "name": "stderr",
          "text": [
            "/usr/local/lib/python3.7/dist-packages/joblib/externals/loky/process_executor.py:703: UserWarning: A worker stopped while some jobs were given to the executor. This can be caused by a too short worker timeout or by a memory leak.\n",
            "  \"timeout or by a memory leak.\", UserWarning\n"
          ]
        },
        {
          "output_type": "stream",
          "name": "stdout",
          "text": [
            "Optimal Hyperparameter: {'lgbmclassifier__reg_alpha': 0, 'lgbmclassifier__num_leaves': 100, 'lgbmclassifier__min_child_samples': 15, 'lgbmclassifier__max_depth': 20, 'lgbmclassifier__learning_rate': 0.1}\n",
            "RMSE: -0.9529011395109244\n"
          ]
        }
      ],
      "source": [
        "clf_lgbmc = lgbmc_tuning(X_train, y_train) # 캬 확실히 빠르네"
      ]
    },
    {
      "cell_type": "code",
      "execution_count": null,
      "metadata": {
        "id": "M816pG9nzh6U",
        "colab": {
          "base_uri": "https://localhost:8080/"
        },
        "outputId": "402378bc-9e90-4c97-b8e6-2ec05e57662e"
      },
      "outputs": [
        {
          "output_type": "stream",
          "name": "stdout",
          "text": [
            "Pipeline(steps=[('onehotencoder',\n",
            "                 OneHotEncoder(cols=['start_city', 'end_city', 'move_city',\n",
            "                                     'season', 'day', 'is_weekend', 'time'])),\n",
            "                ('standardscaler', StandardScaler()),\n",
            "                ('lgbmclassifier',\n",
            "                 LGBMClassifier(max_depth=20, min_child_samples=15,\n",
            "                                num_leaves=100, random_state=2, reg_alpha=0))])\n"
          ]
        }
      ],
      "source": [
        "final_pipe = clf_lgbmc.best_estimator_\n",
        "print(final_pipe)\n",
        "\n",
        "final_pipe.fit(X_train, y_train,\n",
        "            # early_stopping_rounds=20, # pipeline - early stopping 허용 안함\n",
        "            # eval_metric='rmse',\n",
        "            # eval_set=[(X_test, y_test)] #list(tuple()) 로 넣어줄 것\n",
        "            )\n",
        "\n"
      ]
    },
    {
      "cell_type": "code",
      "source": [
        "### 튜닝 후 학습할 때 - oversampling 데이터\n",
        "\n",
        "final_pipe = Pipeline(steps=[('onehotencoder',\n",
        "                 OneHotEncoder(cols=['start_city', 'end_city', 'move_city',\n",
        "                                     'season', 'day', 'is_weekend', 'time'])),\n",
        "                ('standardscaler', StandardScaler()),\n",
        "                ('lgbmclassifier',\n",
        "                 LGBMClassifier(max_depth=20, min_child_samples=15,\n",
        "                                num_leaves=100, random_state=2, reg_alpha=0))])\n",
        "\n",
        "final_pipe.fit(X_resampled, y_resampled,\n",
        "            # early_stopping_rounds=20, # pipeline - early stopping 허용 안함\n",
        "            # eval_metric='rmse',\n",
        "            # eval_set=[(X_test, y_test)] #list(tuple()) 로 넣어줄 것\n",
        "            )"
      ],
      "metadata": {
        "colab": {
          "base_uri": "https://localhost:8080/"
        },
        "id": "x3IItngxa7uv",
        "outputId": "c26ea5b8-ff74-446e-dbff-16cebbd44b1c"
      },
      "execution_count": null,
      "outputs": [
        {
          "output_type": "execute_result",
          "data": {
            "text/plain": [
              "Pipeline(steps=[('onehotencoder',\n",
              "                 OneHotEncoder(cols=['start_city', 'end_city', 'move_city',\n",
              "                                     'season', 'day', 'is_weekend', 'time'])),\n",
              "                ('standardscaler', StandardScaler()),\n",
              "                ('lgbmclassifier',\n",
              "                 LGBMClassifier(max_depth=20, min_child_samples=15,\n",
              "                                num_leaves=100, random_state=2, reg_alpha=0))])"
            ]
          },
          "metadata": {},
          "execution_count": 76
        }
      ]
    },
    {
      "cell_type": "code",
      "source": [
        "y_pred_final = final_pipe.predict(X_test) # train 데이터로 꼭 학습 시키고 예측!!"
      ],
      "metadata": {
        "id": "qFGssOCrI7Ev"
      },
      "execution_count": null,
      "outputs": []
    },
    {
      "cell_type": "code",
      "source": [
        "X_test_transformed"
      ],
      "metadata": {
        "colab": {
          "base_uri": "https://localhost:8080/"
        },
        "id": "qHp2x88ofPi2",
        "outputId": "5c492a9c-17cb-4d80-a6c4-8e0bed5c1a81"
      },
      "execution_count": null,
      "outputs": [
        {
          "output_type": "execute_result",
          "data": {
            "text/plain": [
              "array([[-0.06223321,  0.17933842,  1.15766292, ...,  0.96869629,\n",
              "        -0.9012541 , -0.19297066],\n",
              "       [-0.15515   ,  0.99362172,  0.22867782, ..., -1.03231529,\n",
              "         1.109565  , -0.19297066],\n",
              "       [-0.24749071,  1.1099479 ,  0.4609241 , ...,  0.96869629,\n",
              "        -0.9012541 , -0.19297066],\n",
              "       ...,\n",
              "       [-0.59303682, -0.34412942,  0.22867782, ...,  0.96869629,\n",
              "        -0.9012541 , -0.19297066],\n",
              "       [-1.42591248,  0.93545863, -0.64224571, ..., -1.03231529,\n",
              "         1.109565  , -0.19297066],\n",
              "       [ 0.07799947,  0.17933842, -0.00356845, ..., -1.03231529,\n",
              "         1.109565  , -0.19297066]])"
            ]
          },
          "metadata": {},
          "execution_count": 83
        }
      ]
    },
    {
      "cell_type": "code",
      "execution_count": null,
      "metadata": {
        "colab": {
          "base_uri": "https://localhost:8080/"
        },
        "id": "a7vCXyPBnnN4",
        "outputId": "140ee986-85d5-4ce8-b6e2-50f6057dddc9"
      },
      "outputs": [
        {
          "output_type": "stream",
          "name": "stdout",
          "text": [
            "f1 score : 0.9534889740138731\n"
          ]
        }
      ],
      "source": [
        "# y_pred_final = xgbr.predict(X_test_encoded)\n",
        "print('f1 score :', f1_score(y_test, y_pred_final))"
      ]
    },
    {
      "cell_type": "markdown",
      "source": [
        "- 원본 데이터 f1 score : 0.9534889740138731\n"
      ],
      "metadata": {
        "id": "cKJy_ehnW9zs"
      }
    },
    {
      "cell_type": "markdown",
      "source": [
        " print(classification_report(y_test, y_pred_final))"
      ],
      "metadata": {
        "id": "m7enBUEqK-gw"
      }
    },
    {
      "cell_type": "code",
      "source": [
        "print(pd.Series(y_test).value_counts(), '\\n', pd.Series(y_test).value_counts(3))"
      ],
      "metadata": {
        "colab": {
          "base_uri": "https://localhost:8080/"
        },
        "id": "lQSqLpMNMxtB",
        "outputId": "fbc4788f-68d4-4f69-8054-a7133fdc4a24"
      },
      "execution_count": null,
      "outputs": [
        {
          "output_type": "stream",
          "name": "stdout",
          "text": [
            "1    113449\n",
            "0     20475\n",
            "Name: subscription_type, dtype: int64 \n",
            " 1    0.847115\n",
            "0    0.152885\n",
            "Name: subscription_type, dtype: float64\n"
          ]
        }
      ]
    },
    {
      "cell_type": "code",
      "source": [
        "print(pd.Series(y_pred_final).value_counts(), '\\n', pd.Series(y_pred_final).value_counts(3))"
      ],
      "metadata": {
        "colab": {
          "base_uri": "https://localhost:8080/"
        },
        "id": "2j20hS-1Kte8",
        "outputId": "1d8d8429-d861-4243-a7ba-41accb06f44b"
      },
      "execution_count": null,
      "outputs": [
        {
          "output_type": "stream",
          "name": "stdout",
          "text": [
            "1    118367\n",
            "0     15557\n",
            "dtype: int64 \n",
            " 1    0.883837\n",
            "0    0.116163\n",
            "dtype: float64\n"
          ]
        }
      ]
    },
    {
      "cell_type": "markdown",
      "source": [
        "# XAI model"
      ],
      "metadata": {
        "id": "nSDaT6UIOgHv"
      }
    },
    {
      "cell_type": "code",
      "source": [
        "lgbmc = final_pipe.named_steps['lgbmclassifier'] # final_pipe 로 고치기!!, pipeline 에서 model 뽑기(소문자로)\n"
      ],
      "metadata": {
        "id": "JnUIrZ2ITzs_"
      },
      "execution_count": null,
      "outputs": []
    },
    {
      "cell_type": "code",
      "source": [
        "# 특성 중요도\n",
        "lgbmc = final_pipe.named_steps['lgbmclassifier'] # final_pipe 로 고치기!!, pipeline 에서 model 뽑기(소문자로)\n",
        "importances = pd.Series(lgbmc.feature_importances_, X_train.columns)\n",
        "\n",
        "%matplotlib inline\n",
        "import matplotlib.pyplot as plt\n",
        "\n",
        "n = 20\n",
        "plt.figure(figsize=(10,n/2))\n",
        "plt.title(f'Top {n} features')\n",
        "importances.sort_values()[-n:].plot.barh();"
      ],
      "metadata": {
        "id": "aO2Bm8-5OfSJ"
      },
      "execution_count": null,
      "outputs": []
    },
    {
      "cell_type": "code",
      "source": [
        "### 특성 중요도\n",
        "feature_imp =lgbmc.feature_importances_\n",
        "\n",
        "sort_feature = sorted(\n",
        "    list(zip(X_train.columns, feature_imp)), key=lambda x:x[1], reverse=True)[:5]\n",
        "\n",
        "sort_feature = pd.DataFrame(sort_feature)\n",
        "\n",
        "sns.barplot(data=sort_feature, x=sort_feature.iloc[:, 0], y=sort_feature.iloc[:, 1])"
      ],
      "metadata": {
        "colab": {
          "base_uri": "https://localhost:8080/",
          "height": 298
        },
        "id": "t-bcvfE4P6k0",
        "outputId": "90fef4e9-d23f-4000-bede-aa74dc54d4e3"
      },
      "execution_count": null,
      "outputs": [
        {
          "output_type": "execute_result",
          "data": {
            "text/plain": [
              "<matplotlib.axes._subplots.AxesSubplot at 0x7f66e897c910>"
            ]
          },
          "metadata": {},
          "execution_count": 127
        },
        {
          "output_type": "display_data",
          "data": {
            "text/plain": [
              "<Figure size 432x288 with 1 Axes>"
            ],
            "image/png": "[encoded data removed]"
          },
          "metadata": {
            "needs_background": "light"
          }
        }
      ]
    },
    {
      "cell_type": "code",
      "source": [
        "!pip install eli5"
      ],
      "metadata": {
        "colab": {
          "base_uri": "https://localhost:8080/"
        },
        "id": "iw7_YoVBToLB",
        "outputId": "c8974f12-136b-4180-f29d-1ae95cb04ffa"
      },
      "execution_count": null,
      "outputs": [
        {
          "output_type": "stream",
          "name": "stdout",
          "text": [
            "Looking in indexes: https://pypi.org/simple, https://us-python.pkg.dev/colab-wheels/public/simple/\n",
            "Collecting eli5\n",
            "  Downloading eli5-0.13.0.tar.gz (216 kB)\n",
            "\u001b[K     |████████████████████████████████| 216 kB 5.1 MB/s \n",
            "\u001b[?25hRequirement already satisfied: attrs>17.1.0 in /usr/local/lib/python3.7/dist-packages (from eli5) (22.1.0)\n",
            "Collecting jinja2>=3.0.0\n",
            "  Downloading Jinja2-3.1.2-py3-none-any.whl (133 kB)\n",
            "\u001b[K     |████████████████████████████████| 133 kB 57.6 MB/s \n",
            "\u001b[?25hRequirement already satisfied: numpy>=1.9.0 in /usr/local/lib/python3.7/dist-packages (from eli5) (1.21.6)\n",
            "Requirement already satisfied: scipy in /usr/local/lib/python3.7/dist-packages (from eli5) (1.7.3)\n",
            "Requirement already satisfied: six in /usr/local/lib/python3.7/dist-packages (from eli5) (1.15.0)\n",
            "Requirement already satisfied: scikit-learn>=0.20 in /usr/local/lib/python3.7/dist-packages (from eli5) (1.0.2)\n",
            "Requirement already satisfied: graphviz in /usr/local/lib/python3.7/dist-packages (from eli5) (0.10.1)\n",
            "Requirement already satisfied: tabulate>=0.7.7 in /usr/local/lib/python3.7/dist-packages (from eli5) (0.8.10)\n",
            "Requirement already satisfied: MarkupSafe>=2.0 in /usr/local/lib/python3.7/dist-packages (from jinja2>=3.0.0->eli5) (2.0.1)\n",
            "Requirement already satisfied: joblib>=0.11 in /usr/local/lib/python3.7/dist-packages (from scikit-learn>=0.20->eli5) (1.2.0)\n",
            "Requirement already satisfied: threadpoolctl>=2.0.0 in /usr/local/lib/python3.7/dist-packages (from scikit-learn>=0.20->eli5) (3.1.0)\n",
            "Building wheels for collected packages: eli5\n",
            "  Building wheel for eli5 (setup.py) ... \u001b[?25l\u001b[?25hdone\n",
            "  Created wheel for eli5: filename=eli5-0.13.0-py2.py3-none-any.whl size=107748 sha256=3a6f74324edefa2803d6e0183523bb2b8cef0304c42f805bbcbddeffce1251e4\n",
            "  Stored in directory: /root/.cache/pip/wheels/cc/3c/96/3ead31a8e6c20fc0f1a707fde2e05d49a80b1b4b30096573be\n",
            "Successfully built eli5\n",
            "Installing collected packages: jinja2, eli5\n",
            "  Attempting uninstall: jinja2\n",
            "    Found existing installation: Jinja2 2.11.3\n",
            "    Uninstalling Jinja2-2.11.3:\n",
            "      Successfully uninstalled Jinja2-2.11.3\n",
            "\u001b[31mERROR: pip's dependency resolver does not currently take into account all the packages that are installed. This behaviour is the source of the following dependency conflicts.\n",
            "flask 1.1.4 requires Jinja2<3.0,>=2.10.1, but you have jinja2 3.1.2 which is incompatible.\u001b[0m\n",
            "Successfully installed eli5-0.13.0 jinja2-3.1.2\n"
          ]
        }
      ]
    },
    {
      "cell_type": "code",
      "source": [
        "### eli5 순열중요도\n",
        "\n",
        "import warnings\n",
        "warnings.simplefilter(action='ignore', category=FutureWarning)\n",
        "\n",
        "import eli5\n",
        "from eli5.sklearn import PermutationImportance\n",
        "\n",
        "# permuter 정의\n",
        "permuter = PermutationImportance(\n",
        "    lgbmc, # model\n",
        "    scoring='f1', # metric\n",
        "    n_iter=5, # 다른 random seed를 사용하여 5번 반복\n",
        "    random_state=2\n",
        ")\n",
        "\n",
        "# permuter 계산은 preprocessing 된 X_test을 사용합니다.\n",
        "X_test_transformed = final_pipe.named_steps['onehotencoder'].transform(X_test) # final_pipe 로 고치기!!\n",
        "feature_names = X_test_transformed.columns.tolist() ## 표준정규화 하기 전에 ㅎㅎ column 빼야하네\n",
        "\n",
        "X_test_transformed = final_pipe.named_steps['standardscaler'].transform(X_test_transformed) # final_pipe 로 고치기!!\n",
        "\n",
        "# 실제로 fit 의미보다는 스코어를 다시 계산하는 작업입니다\n",
        "permuter.fit(X_test_transformed, y_test);"
      ],
      "metadata": {
        "id": "02cZ1KIVQ6Ei"
      },
      "execution_count": null,
      "outputs": []
    },
    {
      "cell_type": "code",
      "source": [
        "\n",
        "pd.Series(permuter.feature_importances_, feature_names).sort_values()"
      ],
      "metadata": {
        "colab": {
          "base_uri": "https://localhost:8080/"
        },
        "id": "16M_DtM0Vr5q",
        "outputId": "1daf83d9-d343-4e1d-afc1-42e9aef08b65"
      },
      "execution_count": null,
      "outputs": [
        {
          "output_type": "execute_result",
          "data": {
            "text/plain": [
              "bike_id             -3.675482e-05\n",
              "season_3            -2.819057e-05\n",
              "end_city_2          -1.574987e-05\n",
              "day_6               -1.428424e-05\n",
              "day_2               -1.039288e-05\n",
              "end_city_4          -9.931591e-06\n",
              "move_city_2         -8.788025e-06\n",
              "start_city_1        -6.801574e-06\n",
              "start_city_5        -6.500818e-06\n",
              "day_4               -6.359723e-06\n",
              "day_3               -5.096147e-06\n",
              "end_city_5          -4.113146e-06\n",
              "move_city_13         0.000000e+00\n",
              "move_city_15         0.000000e+00\n",
              "move_city_16         0.000000e+00\n",
              "move_city_17         0.000000e+00\n",
              "move_city_19         0.000000e+00\n",
              "move_city_12         0.000000e+00\n",
              "move_city_20         0.000000e+00\n",
              "move_city_21         0.000000e+00\n",
              "move_city_22         0.000000e+00\n",
              "move_city_18         0.000000e+00\n",
              "move_city_11         0.000000e+00\n",
              "move_city_14         0.000000e+00\n",
              "move_city_9          0.000000e+00\n",
              "move_city_8          0.000000e+00\n",
              "move_city_7          0.000000e+00\n",
              "move_city_5          0.000000e+00\n",
              "move_city_4          0.000000e+00\n",
              "move_city_3          0.000000e+00\n",
              "move_city_1          0.000000e+00\n",
              "end_city_3           0.000000e+00\n",
              "end_city_1           0.000000e+00\n",
              "move_city_10         0.000000e+00\n",
              "start_city_3         0.000000e+00\n",
              "is_weekend_2         0.000000e+00\n",
              "is_same_city         9.028847e-07\n",
              "is_comeback          3.290489e-06\n",
              "start_city_2         3.390766e-06\n",
              "move_city_6          1.053348e-05\n",
              "start_city_4         1.069401e-05\n",
              "day_7                2.281178e-05\n",
              "day_5                2.788997e-05\n",
              "season_2             3.304243e-05\n",
              "season_1             6.173003e-05\n",
              "day_1                6.895892e-05\n",
              "time_3               1.400957e-04\n",
              "time_1               2.097665e-04\n",
              "season_4             2.412942e-04\n",
              "time_2               1.402179e-03\n",
              "end_station_id       3.524405e-03\n",
              "start_station_id     3.951456e-03\n",
              "is_weekend_1         3.970821e-03\n",
              "distance_lat+long    8.749272e-03\n",
              "duration             6.161216e-02\n",
              "distance_diagonal    6.307826e-02\n",
              "dtype: float64"
            ]
          },
          "metadata": {},
          "execution_count": 145
        }
      ]
    },
    {
      "cell_type": "code",
      "source": [
        "\n",
        "# 특성별 score 확인\n",
        "eli5.show_weights(\n",
        "    permuter, \n",
        "    top=None, # top n 지정 가능, None 일 경우 모든 특성 \n",
        "    feature_names=feature_names # list 형식으로 넣어야 합니다\n",
        ")\n"
      ],
      "metadata": {
        "colab": {
          "base_uri": "https://localhost:8080/",
          "height": 236
        },
        "id": "Vj0vLNp_RWQh",
        "outputId": "4975e543-0963-4bca-ee67-0d8644ff2828"
      },
      "execution_count": null,
      "outputs": [
        {
          "output_type": "error",
          "ename": "NameError",
          "evalue": "ignored",
          "traceback": [
            "\u001b[0;31m---------------------------------------------------------------------------\u001b[0m",
            "\u001b[0;31mNameError\u001b[0m                                 Traceback (most recent call last)",
            "\u001b[0;32m<ipython-input-1-e991664126d2>\u001b[0m in \u001b[0;36m<module>\u001b[0;34m\u001b[0m\n\u001b[1;32m      1\u001b[0m \u001b[0;31m# 특성별 score 확인\u001b[0m\u001b[0;34m\u001b[0m\u001b[0;34m\u001b[0m\u001b[0;34m\u001b[0m\u001b[0m\n\u001b[0;32m----> 2\u001b[0;31m eli5.show_weights(\n\u001b[0m\u001b[1;32m      3\u001b[0m     \u001b[0mpermuter\u001b[0m\u001b[0;34m,\u001b[0m\u001b[0;34m\u001b[0m\u001b[0;34m\u001b[0m\u001b[0m\n\u001b[1;32m      4\u001b[0m     \u001b[0mtop\u001b[0m\u001b[0;34m=\u001b[0m\u001b[0;32mNone\u001b[0m\u001b[0;34m,\u001b[0m \u001b[0;31m# top n 지정 가능, None 일 경우 모든 특성\u001b[0m\u001b[0;34m\u001b[0m\u001b[0;34m\u001b[0m\u001b[0m\n\u001b[1;32m      5\u001b[0m     \u001b[0mfeature_names\u001b[0m\u001b[0;34m=\u001b[0m\u001b[0mfeature_names\u001b[0m \u001b[0;31m# list 형식으로 넣어야 합니다\u001b[0m\u001b[0;34m\u001b[0m\u001b[0;34m\u001b[0m\u001b[0m\n",
            "\u001b[0;31mNameError\u001b[0m: name 'eli5' is not defined"
          ]
        }
      ]
    },
    {
      "cell_type": "markdown",
      "source": [
        "# PDP\n"
      ],
      "metadata": {
        "id": "vAh-ZZz-Z_LV"
      }
    },
    {
      "cell_type": "code",
      "source": [
        "! pip install pdpbox\n",
        "\n"
      ],
      "metadata": {
        "colab": {
          "base_uri": "https://localhost:8080/",
          "height": 767
        },
        "id": "Idy0STOIaBCO",
        "outputId": "1accd324-4331-4d84-e937-5efa95a67bf4"
      },
      "execution_count": null,
      "outputs": [
        {
          "output_type": "stream",
          "name": "stdout",
          "text": [
            "Looking in indexes: https://pypi.org/simple, https://us-python.pkg.dev/colab-wheels/public/simple/\n",
            "Collecting pdpbox\n",
            "  Downloading PDPbox-0.2.1.tar.gz (34.0 MB)\n",
            "\u001b[K     |████████████████████████████████| 34.0 MB 1.2 MB/s \n",
            "\u001b[?25hRequirement already satisfied: pandas in /usr/local/lib/python3.7/dist-packages (from pdpbox) (1.3.5)\n",
            "Requirement already satisfied: numpy in /usr/local/lib/python3.7/dist-packages (from pdpbox) (1.21.6)\n",
            "Requirement already satisfied: scipy in /usr/local/lib/python3.7/dist-packages (from pdpbox) (1.7.3)\n",
            "Requirement already satisfied: joblib in /usr/local/lib/python3.7/dist-packages (from pdpbox) (1.2.0)\n",
            "Requirement already satisfied: psutil in /usr/local/lib/python3.7/dist-packages (from pdpbox) (5.4.8)\n",
            "Collecting matplotlib==3.1.1\n",
            "  Downloading matplotlib-3.1.1-cp37-cp37m-manylinux1_x86_64.whl (13.1 MB)\n",
            "\u001b[K     |████████████████████████████████| 13.1 MB 32.1 MB/s \n",
            "\u001b[?25hCollecting sklearn\n",
            "  Downloading sklearn-0.0.tar.gz (1.1 kB)\n",
            "Requirement already satisfied: kiwisolver>=1.0.1 in /usr/local/lib/python3.7/dist-packages (from matplotlib==3.1.1->pdpbox) (1.4.4)\n",
            "Requirement already satisfied: cycler>=0.10 in /usr/local/lib/python3.7/dist-packages (from matplotlib==3.1.1->pdpbox) (0.11.0)\n",
            "Requirement already satisfied: python-dateutil>=2.1 in /usr/local/lib/python3.7/dist-packages (from matplotlib==3.1.1->pdpbox) (2.8.2)\n",
            "Requirement already satisfied: pyparsing!=2.0.4,!=2.1.2,!=2.1.6,>=2.0.1 in /usr/local/lib/python3.7/dist-packages (from matplotlib==3.1.1->pdpbox) (3.0.9)\n",
            "Requirement already satisfied: typing-extensions in /usr/local/lib/python3.7/dist-packages (from kiwisolver>=1.0.1->matplotlib==3.1.1->pdpbox) (4.1.1)\n",
            "Requirement already satisfied: six>=1.5 in /usr/local/lib/python3.7/dist-packages (from python-dateutil>=2.1->matplotlib==3.1.1->pdpbox) (1.15.0)\n",
            "Requirement already satisfied: pytz>=2017.3 in /usr/local/lib/python3.7/dist-packages (from pandas->pdpbox) (2022.5)\n",
            "Requirement already satisfied: scikit-learn in /usr/local/lib/python3.7/dist-packages (from sklearn->pdpbox) (1.0.2)\n",
            "Requirement already satisfied: threadpoolctl>=2.0.0 in /usr/local/lib/python3.7/dist-packages (from scikit-learn->sklearn->pdpbox) (3.1.0)\n",
            "Building wheels for collected packages: pdpbox, sklearn\n",
            "  Building wheel for pdpbox (setup.py) ... \u001b[?25l\u001b[?25hdone\n",
            "  Created wheel for pdpbox: filename=PDPbox-0.2.1-py3-none-any.whl size=35758224 sha256=517ce25b221bc044dae3e07bc6e0afa7629b3a23f44b210e5c35ab16b9d2c08e\n",
            "  Stored in directory: /root/.cache/pip/wheels/f4/d0/1a/b80035625c53131f52906a6fc4dd690d8efd2bf8af6a4015eb\n",
            "  Building wheel for sklearn (setup.py) ... \u001b[?25l\u001b[?25hdone\n",
            "  Created wheel for sklearn: filename=sklearn-0.0-py2.py3-none-any.whl size=1310 sha256=f64d7de966da527ee82cbcd6e8d6fa01c5a88f8ac52435b74a012f05f2040c83\n",
            "  Stored in directory: /root/.cache/pip/wheels/46/ef/c3/157e41f5ee1372d1be90b09f74f82b10e391eaacca8f22d33e\n",
            "Successfully built pdpbox sklearn\n",
            "Installing collected packages: sklearn, matplotlib, pdpbox\n",
            "  Attempting uninstall: matplotlib\n",
            "    Found existing installation: matplotlib 3.2.2\n",
            "    Uninstalling matplotlib-3.2.2:\n",
            "      Successfully uninstalled matplotlib-3.2.2\n",
            "Successfully installed matplotlib-3.1.1 pdpbox-0.2.1 sklearn-0.0\n"
          ]
        },
        {
          "output_type": "display_data",
          "data": {
            "application/vnd.colab-display-data+json": {
              "pip_warning": {
                "packages": [
                  "matplotlib",
                  "mpl_toolkits"
                ]
              }
            }
          },
          "metadata": {}
        }
      ]
    },
    {
      "cell_type": "code",
      "source": [
        "# dpi(dots per inch) 수치를 조정해 이미지 화질을 조정 할 수 있습니다\n",
        "import matplotlib.pyplot as plt\n",
        "plt.rcParams['figure.dpi'] = 144"
      ],
      "metadata": {
        "id": "D3zGOVI6abHp"
      },
      "execution_count": null,
      "outputs": []
    },
    {
      "cell_type": "code",
      "source": [
        "from pdpbox.pdp import pdp_isolate, pdp_plot\n",
        "\n",
        "feature = 'distance_diagonal'"
      ],
      "metadata": {
        "id": "V4Yj40OefEE5"
      },
      "execution_count": null,
      "outputs": []
    },
    {
      "cell_type": "code",
      "source": [
        "isolated = pdp_isolate(\n",
        "    model=lgbmc, \n",
        "    dataset=X_test_transformed, \n",
        "    model_features=X_test_transformed.columns, \n",
        "    feature=feature\n",
        ")\n",
        "\n",
        "pdp_plot(isolated, feature_name=feature);"
      ],
      "metadata": {
        "colab": {
          "base_uri": "https://localhost:8080/",
          "height": 236
        },
        "id": "YubegBb2exoc",
        "outputId": "0b29f32d-d424-4e51-a201-03935499d9f0"
      },
      "execution_count": null,
      "outputs": [
        {
          "output_type": "error",
          "ename": "AttributeError",
          "evalue": "ignored",
          "traceback": [
            "\u001b[0;31m---------------------------------------------------------------------------\u001b[0m",
            "\u001b[0;31mAttributeError\u001b[0m                            Traceback (most recent call last)",
            "\u001b[0;32m<ipython-input-85-bbab76789965>\u001b[0m in \u001b[0;36m<module>\u001b[0;34m\u001b[0m\n\u001b[1;32m      2\u001b[0m     \u001b[0mmodel\u001b[0m\u001b[0;34m=\u001b[0m\u001b[0mlgbmc\u001b[0m\u001b[0;34m,\u001b[0m\u001b[0;34m\u001b[0m\u001b[0;34m\u001b[0m\u001b[0m\n\u001b[1;32m      3\u001b[0m     \u001b[0mdataset\u001b[0m\u001b[0;34m=\u001b[0m\u001b[0mX_test_transformed\u001b[0m\u001b[0;34m,\u001b[0m\u001b[0;34m\u001b[0m\u001b[0;34m\u001b[0m\u001b[0m\n\u001b[0;32m----> 4\u001b[0;31m     \u001b[0mmodel_features\u001b[0m\u001b[0;34m=\u001b[0m\u001b[0mX_test_transformed\u001b[0m\u001b[0;34m.\u001b[0m\u001b[0mcolumns\u001b[0m\u001b[0;34m,\u001b[0m\u001b[0;34m\u001b[0m\u001b[0;34m\u001b[0m\u001b[0m\n\u001b[0m\u001b[1;32m      5\u001b[0m     \u001b[0mfeature\u001b[0m\u001b[0;34m=\u001b[0m\u001b[0mfeature\u001b[0m\u001b[0;34m\u001b[0m\u001b[0;34m\u001b[0m\u001b[0m\n\u001b[1;32m      6\u001b[0m )\n",
            "\u001b[0;31mAttributeError\u001b[0m: 'numpy.ndarray' object has no attribute 'columns'"
          ]
        }
      ]
    },
    {
      "cell_type": "markdown",
      "source": [
        "# Extra\n"
      ],
      "metadata": {
        "id": "eCV-XwvjeUid"
      }
    },
    {
      "cell_type": "code",
      "source": [
        "import matplotlib.pyplot as plt\n",
        "from sklearn.datasets import load_breast_cancer\n",
        "\n",
        "dataset = load_breast_cancer(as_frame=True)\n",
        "target = dataset['target']\n"
      ],
      "metadata": {
        "id": "OOVL8UNDiZgh"
      },
      "execution_count": null,
      "outputs": []
    },
    {
      "cell_type": "code",
      "source": [
        "target"
      ],
      "metadata": {
        "colab": {
          "base_uri": "https://localhost:8080/"
        },
        "id": "OWgVNpHgiaM5",
        "outputId": "96950caa-42cc-4e78-a6e6-098f8c5f7ca5"
      },
      "execution_count": null,
      "outputs": [
        {
          "output_type": "execute_result",
          "data": {
            "text/plain": [
              "0      0\n",
              "1      0\n",
              "2      0\n",
              "3      0\n",
              "4      0\n",
              "      ..\n",
              "564    0\n",
              "565    0\n",
              "566    0\n",
              "567    0\n",
              "568    1\n",
              "Name: target, Length: 569, dtype: int64"
            ]
          },
          "metadata": {},
          "execution_count": 83
        }
      ]
    },
    {
      "cell_type": "code",
      "execution_count": null,
      "metadata": {
        "id": "SO20euA_92xQ"
      },
      "outputs": [],
      "source": [
        "## import OneHotEncoder\n",
        "\n",
        "## 원핫 인코딩\n",
        "encoder = OneHotEncoder(use_cat_names = True)\n",
        "X_train = encoder.fit_transform(X_train) # train으로 학습 및 변형\n",
        "X_test = encoder.transform(X_test) # test는 이미 학습한걸로 변형"
      ]
    },
    {
      "cell_type": "code",
      "source": [
        "X_train.head()"
      ],
      "metadata": {
        "colab": {
          "base_uri": "https://localhost:8080/",
          "height": 444
        },
        "id": "TMrxbwGeRFPx",
        "outputId": "2eef13f7-46cb-4bcd-d529-608b25a086da"
      },
      "execution_count": null,
      "outputs": [
        {
          "output_type": "execute_result",
          "data": {
            "text/plain": [
              "        duration  start_station_id  end_station_id  bike_id     start_city  \\\n",
              "57093   5.062595                75              74      529  San Francisco   \n",
              "324569  6.814543                70              58      521  San Francisco   \n",
              "259055  6.084499                69              57      637  San Francisco   \n",
              "105345  5.605802                77              76      411  San Francisco   \n",
              "224594  6.447306                61              65      333  San Francisco   \n",
              "\n",
              "             end_city                    move_city  distance_diagonal  \\\n",
              "57093   San Francisco  San Francisco_San Francisco           0.414786   \n",
              "324569  San Francisco  San Francisco_San Francisco           1.109170   \n",
              "259055  San Francisco  San Francisco_San Francisco           0.705059   \n",
              "105345  San Francisco  San Francisco_San Francisco           0.418204   \n",
              "224594  San Francisco  San Francisco_San Francisco           0.923120   \n",
              "\n",
              "        distance_lat+long  is_comeback  is_same_city  season  day is_weekend  \\\n",
              "57093            0.543130            0             1    fall  Fri   weekdays   \n",
              "324569           1.177212            0             1  summer  Mon   weekdays   \n",
              "259055           0.884438            0             1  spring  Wed   weekdays   \n",
              "105345           0.550594            0             1  winter  Wed   weekdays   \n",
              "224594           1.145849            0             1  summer  Thu   weekdays   \n",
              "\n",
              "           time  \n",
              "57093       day  \n",
              "324569  commute  \n",
              "259055      day  \n",
              "105345      day  \n",
              "224594  commute  "
            ],
            "text/html": [
              "\n",
              "  <div id=\"df-0e8897a7-8d18-4671-aa44-78c52fae9480\">\n",
              "    <div class=\"colab-df-container\">\n",
              "      <div>\n",
              "<style scoped>\n",
              "    .dataframe tbody tr th:only-of-type {\n",
              "        vertical-align: middle;\n",
              "    }\n",
              "\n",
              "    .dataframe tbody tr th {\n",
              "        vertical-align: top;\n",
              "    }\n",
              "\n",
              "    .dataframe thead th {\n",
              "        text-align: right;\n",
              "    }\n",
              "</style>\n",
              "<table border=\"1\" class=\"dataframe\">\n",
              "  <thead>\n",
              "    <tr style=\"text-align: right;\">\n",
              "      <th></th>\n",
              "      <th>duration</th>\n",
              "      <th>start_station_id</th>\n",
              "      <th>end_station_id</th>\n",
              "      <th>bike_id</th>\n",
              "      <th>start_city</th>\n",
              "      <th>end_city</th>\n",
              "      <th>move_city</th>\n",
              "      <th>distance_diagonal</th>\n",
              "      <th>distance_lat+long</th>\n",
              "      <th>is_comeback</th>\n",
              "      <th>is_same_city</th>\n",
              "      <th>season</th>\n",
              "      <th>day</th>\n",
              "      <th>is_weekend</th>\n",
              "      <th>time</th>\n",
              "    </tr>\n",
              "  </thead>\n",
              "  <tbody>\n",
              "    <tr>\n",
              "      <th>57093</th>\n",
              "      <td>5.062595</td>\n",
              "      <td>75</td>\n",
              "      <td>74</td>\n",
              "      <td>529</td>\n",
              "      <td>San Francisco</td>\n",
              "      <td>San Francisco</td>\n",
              "      <td>San Francisco_San Francisco</td>\n",
              "      <td>0.414786</td>\n",
              "      <td>0.543130</td>\n",
              "      <td>0</td>\n",
              "      <td>1</td>\n",
              "      <td>fall</td>\n",
              "      <td>Fri</td>\n",
              "      <td>weekdays</td>\n",
              "      <td>day</td>\n",
              "    </tr>\n",
              "    <tr>\n",
              "      <th>324569</th>\n",
              "      <td>6.814543</td>\n",
              "      <td>70</td>\n",
              "      <td>58</td>\n",
              "      <td>521</td>\n",
              "      <td>San Francisco</td>\n",
              "      <td>San Francisco</td>\n",
              "      <td>San Francisco_San Francisco</td>\n",
              "      <td>1.109170</td>\n",
              "      <td>1.177212</td>\n",
              "      <td>0</td>\n",
              "      <td>1</td>\n",
              "      <td>summer</td>\n",
              "      <td>Mon</td>\n",
              "      <td>weekdays</td>\n",
              "      <td>commute</td>\n",
              "    </tr>\n",
              "    <tr>\n",
              "      <th>259055</th>\n",
              "      <td>6.084499</td>\n",
              "      <td>69</td>\n",
              "      <td>57</td>\n",
              "      <td>637</td>\n",
              "      <td>San Francisco</td>\n",
              "      <td>San Francisco</td>\n",
              "      <td>San Francisco_San Francisco</td>\n",
              "      <td>0.705059</td>\n",
              "      <td>0.884438</td>\n",
              "      <td>0</td>\n",
              "      <td>1</td>\n",
              "      <td>spring</td>\n",
              "      <td>Wed</td>\n",
              "      <td>weekdays</td>\n",
              "      <td>day</td>\n",
              "    </tr>\n",
              "    <tr>\n",
              "      <th>105345</th>\n",
              "      <td>5.605802</td>\n",
              "      <td>77</td>\n",
              "      <td>76</td>\n",
              "      <td>411</td>\n",
              "      <td>San Francisco</td>\n",
              "      <td>San Francisco</td>\n",
              "      <td>San Francisco_San Francisco</td>\n",
              "      <td>0.418204</td>\n",
              "      <td>0.550594</td>\n",
              "      <td>0</td>\n",
              "      <td>1</td>\n",
              "      <td>winter</td>\n",
              "      <td>Wed</td>\n",
              "      <td>weekdays</td>\n",
              "      <td>day</td>\n",
              "    </tr>\n",
              "    <tr>\n",
              "      <th>224594</th>\n",
              "      <td>6.447306</td>\n",
              "      <td>61</td>\n",
              "      <td>65</td>\n",
              "      <td>333</td>\n",
              "      <td>San Francisco</td>\n",
              "      <td>San Francisco</td>\n",
              "      <td>San Francisco_San Francisco</td>\n",
              "      <td>0.923120</td>\n",
              "      <td>1.145849</td>\n",
              "      <td>0</td>\n",
              "      <td>1</td>\n",
              "      <td>summer</td>\n",
              "      <td>Thu</td>\n",
              "      <td>weekdays</td>\n",
              "      <td>commute</td>\n",
              "    </tr>\n",
              "  </tbody>\n",
              "</table>\n",
              "</div>\n",
              "      <button class=\"colab-df-convert\" onclick=\"convertToInteractive('df-0e8897a7-8d18-4671-aa44-78c52fae9480')\"\n",
              "              title=\"Convert this dataframe to an interactive table.\"\n",
              "              style=\"display:none;\">\n",
              "        \n",
              "  <svg xmlns=\"http://www.w3.org/2000/svg\" height=\"24px\"viewBox=\"0 0 24 24\"\n",
              "       width=\"24px\">\n",
              "    <path d=\"M0 0h24v24H0V0z\" fill=\"none\"/>\n",
              "    <path d=\"M18.56 5.44l.94 2.06.94-2.06 2.06-.94-2.06-.94-.94-2.06-.94 2.06-2.06.94zm-11 1L8.5 8.5l.94-2.06 2.06-.94-2.06-.94L8.5 2.5l-.94 2.06-2.06.94zm10 10l.94 2.06.94-2.06 2.06-.94-2.06-.94-.94-2.06-.94 2.06-2.06.94z\"/><path d=\"M17.41 7.96l-1.37-1.37c-.4-.4-.92-.59-1.43-.59-.52 0-1.04.2-1.43.59L10.3 9.45l-7.72 7.72c-.78.78-.78 2.05 0 2.83L4 21.41c.39.39.9.59 1.41.59.51 0 1.02-.2 1.41-.59l7.78-7.78 2.81-2.81c.8-.78.8-2.07 0-2.86zM5.41 20L4 18.59l7.72-7.72 1.47 1.35L5.41 20z\"/>\n",
              "  </svg>\n",
              "      </button>\n",
              "      \n",
              "  <style>\n",
              "    .colab-df-container {\n",
              "      display:flex;\n",
              "      flex-wrap:wrap;\n",
              "      gap: 12px;\n",
              "    }\n",
              "\n",
              "    .colab-df-convert {\n",
              "      background-color: #E8F0FE;\n",
              "      border: none;\n",
              "      border-radius: 50%;\n",
              "      cursor: pointer;\n",
              "      display: none;\n",
              "      fill: #1967D2;\n",
              "      height: 32px;\n",
              "      padding: 0 0 0 0;\n",
              "      width: 32px;\n",
              "    }\n",
              "\n",
              "    .colab-df-convert:hover {\n",
              "      background-color: #E2EBFA;\n",
              "      box-shadow: 0px 1px 2px rgba(60, 64, 67, 0.3), 0px 1px 3px 1px rgba(60, 64, 67, 0.15);\n",
              "      fill: #174EA6;\n",
              "    }\n",
              "\n",
              "    [theme=dark] .colab-df-convert {\n",
              "      background-color: #3B4455;\n",
              "      fill: #D2E3FC;\n",
              "    }\n",
              "\n",
              "    [theme=dark] .colab-df-convert:hover {\n",
              "      background-color: #434B5C;\n",
              "      box-shadow: 0px 1px 3px 1px rgba(0, 0, 0, 0.15);\n",
              "      filter: drop-shadow(0px 1px 2px rgba(0, 0, 0, 0.3));\n",
              "      fill: #FFFFFF;\n",
              "    }\n",
              "  </style>\n",
              "\n",
              "      <script>\n",
              "        const buttonEl =\n",
              "          document.querySelector('#df-0e8897a7-8d18-4671-aa44-78c52fae9480 button.colab-df-convert');\n",
              "        buttonEl.style.display =\n",
              "          google.colab.kernel.accessAllowed ? 'block' : 'none';\n",
              "\n",
              "        async function convertToInteractive(key) {\n",
              "          const element = document.querySelector('#df-0e8897a7-8d18-4671-aa44-78c52fae9480');\n",
              "          const dataTable =\n",
              "            await google.colab.kernel.invokeFunction('convertToInteractive',\n",
              "                                                     [key], {});\n",
              "          if (!dataTable) return;\n",
              "\n",
              "          const docLinkHtml = 'Like what you see? Visit the ' +\n",
              "            '<a target=\"_blank\" href=https://colab.research.google.com/notebooks/data_table.ipynb>data table notebook</a>'\n",
              "            + ' to learn more about interactive tables.';\n",
              "          element.innerHTML = '';\n",
              "          dataTable['output_type'] = 'display_data';\n",
              "          await google.colab.output.renderOutput(dataTable, element);\n",
              "          const docLink = document.createElement('div');\n",
              "          docLink.innerHTML = docLinkHtml;\n",
              "          element.appendChild(docLink);\n",
              "        }\n",
              "      </script>\n",
              "    </div>\n",
              "  </div>\n",
              "  "
            ]
          },
          "metadata": {},
          "execution_count": 63
        }
      ]
    },
    {
      "cell_type": "code",
      "source": [
        "import warnings\n",
        "warnings.filterwarnings(action='ignore', category=FutureWarning, module='xgboost')"
      ],
      "metadata": {
        "id": "oy_1YeCSW2Gs"
      },
      "execution_count": null,
      "outputs": []
    },
    {
      "cell_type": "code",
      "source": [
        "from sklearn.preprocessing import StandardScaler, MinMaxScaler # 넣을 때 df로 -> 시각화는 Series\n",
        "\n",
        "scaler = StandardScaler()\n",
        "scaler.fit(distance)\n",
        "\n",
        "distance_scaled = scaler.transform(distance) \n"
      ],
      "metadata": {
        "id": "W6YpoERGp-rY"
      },
      "execution_count": null,
      "outputs": []
    },
    {
      "cell_type": "code",
      "source": [
        "# 시계열\n",
        "df.start_date, df.end_date = pd.to_datetime(df.start_date), pd.to_datetime(df.end_date)"
      ],
      "metadata": {
        "id": "lLhIUH3WhI1J"
      },
      "execution_count": null,
      "outputs": []
    },
    {
      "cell_type": "code",
      "source": [
        "df_trip2 = df_trip[~(df_trip.start_station_id.isin(filter))]"
      ],
      "metadata": {
        "id": "wqdWsfRzoLOl"
      },
      "execution_count": null,
      "outputs": []
    },
    {
      "cell_type": "code",
      "source": [
        "df_trip3 = df_trip[(df_trip.start_station_id.isin(filter) == False) & (df_trip.end_station_id.isin(filter) == False)]"
      ],
      "metadata": {
        "id": "5JEA33zHsidI"
      },
      "execution_count": null,
      "outputs": []
    },
    {
      "cell_type": "code",
      "source": [
        "### export csv file\n",
        "\n",
        "# X_resampled.to_csv('/content/drive/MyDrive/코드스테이츠/N2XX/section2 project/X_resampled.csv')\n",
        "# y_resampled.to_csv('/content/drive/MyDrive/코드스테이츠/N2XX/section2 project/y_resampled.csv')\n"
      ],
      "metadata": {
        "id": "HvCCi4dEeHhy"
      },
      "execution_count": null,
      "outputs": []
    },
    {
      "cell_type": "code",
      "source": [
        "df2 = df[df['time'].dt.minute == 0]"
      ],
      "metadata": {
        "id": "4FGo_o_Vh3pX"
      },
      "execution_count": null,
      "outputs": []
    }
  ]
}